{
 "cells": [
  {
   "cell_type": "code",
   "execution_count": 1,
   "id": "d7328138",
   "metadata": {},
   "outputs": [],
   "source": [
    "# Load dependencies/packages\n",
    "import numpy as np # for array operations\n",
    "import pandas as pd # for neat tables, database-like grouping/summary tables & csv_read\n",
    "import matplotlib.pyplot as plt # for the occasional plot\n",
    "import seaborn as sns # for the occasional plot\n",
    "sns.set_theme(style=\"whitegrid\")"
   ]
  },
  {
   "cell_type": "code",
   "execution_count": 2,
   "id": "071b6a9d",
   "metadata": {},
   "outputs": [],
   "source": [
    "# Load Data\n",
    "base_data = pd.read_csv('data/joinedResults.csv', infer_datetime_format=True, parse_dates=['date'])"
   ]
  },
  {
   "cell_type": "code",
   "execution_count": 3,
   "id": "f4e91184",
   "metadata": {},
   "outputs": [
    {
     "data": {
      "text/html": [
       "<div>\n",
       "<style scoped>\n",
       "    .dataframe tbody tr th:only-of-type {\n",
       "        vertical-align: middle;\n",
       "    }\n",
       "\n",
       "    .dataframe tbody tr th {\n",
       "        vertical-align: top;\n",
       "    }\n",
       "\n",
       "    .dataframe thead th {\n",
       "        text-align: right;\n",
       "    }\n",
       "</style>\n",
       "<table border=\"1\" class=\"dataframe\">\n",
       "  <thead>\n",
       "    <tr style=\"text-align: right;\">\n",
       "      <th></th>\n",
       "      <th>customer_id</th>\n",
       "      <th>campaign_id</th>\n",
       "      <th>date</th>\n",
       "      <th>viewers</th>\n",
       "      <th>pageviews</th>\n",
       "      <th>avg_duration_per_viewer</th>\n",
       "      <th>chats</th>\n",
       "      <th>likes</th>\n",
       "      <th>clicks_sum</th>\n",
       "      <th>click_revenue_sum_usd</th>\n",
       "    </tr>\n",
       "  </thead>\n",
       "  <tbody>\n",
       "    <tr>\n",
       "      <th>0</th>\n",
       "      <td>2</td>\n",
       "      <td>5073</td>\n",
       "      <td>2022-11-24</td>\n",
       "      <td>45751</td>\n",
       "      <td>93970</td>\n",
       "      <td>147.886337</td>\n",
       "      <td>1170</td>\n",
       "      <td>34670</td>\n",
       "      <td>2123</td>\n",
       "      <td>1.294150e+05</td>\n",
       "    </tr>\n",
       "    <tr>\n",
       "      <th>1</th>\n",
       "      <td>2</td>\n",
       "      <td>5138</td>\n",
       "      <td>2022-12-01</td>\n",
       "      <td>67039</td>\n",
       "      <td>164489</td>\n",
       "      <td>125.591696</td>\n",
       "      <td>779</td>\n",
       "      <td>17729</td>\n",
       "      <td>2008</td>\n",
       "      <td>5.275550e+05</td>\n",
       "    </tr>\n",
       "    <tr>\n",
       "      <th>2</th>\n",
       "      <td>2</td>\n",
       "      <td>5286</td>\n",
       "      <td>2022-12-08</td>\n",
       "      <td>49438</td>\n",
       "      <td>97989</td>\n",
       "      <td>132.506732</td>\n",
       "      <td>498</td>\n",
       "      <td>16364</td>\n",
       "      <td>1203</td>\n",
       "      <td>6.080510e+05</td>\n",
       "    </tr>\n",
       "    <tr>\n",
       "      <th>3</th>\n",
       "      <td>2</td>\n",
       "      <td>5333</td>\n",
       "      <td>2022-12-15</td>\n",
       "      <td>49414</td>\n",
       "      <td>95602</td>\n",
       "      <td>135.549018</td>\n",
       "      <td>855</td>\n",
       "      <td>42533</td>\n",
       "      <td>3642</td>\n",
       "      <td>3.537560e+05</td>\n",
       "    </tr>\n",
       "    <tr>\n",
       "      <th>4</th>\n",
       "      <td>2</td>\n",
       "      <td>5567</td>\n",
       "      <td>2022-12-22</td>\n",
       "      <td>55133</td>\n",
       "      <td>104726</td>\n",
       "      <td>154.623454</td>\n",
       "      <td>2198</td>\n",
       "      <td>34881</td>\n",
       "      <td>11318</td>\n",
       "      <td>3.933031e+06</td>\n",
       "    </tr>\n",
       "    <tr>\n",
       "      <th>...</th>\n",
       "      <td>...</td>\n",
       "      <td>...</td>\n",
       "      <td>...</td>\n",
       "      <td>...</td>\n",
       "      <td>...</td>\n",
       "      <td>...</td>\n",
       "      <td>...</td>\n",
       "      <td>...</td>\n",
       "      <td>...</td>\n",
       "      <td>...</td>\n",
       "    </tr>\n",
       "    <tr>\n",
       "      <th>1625</th>\n",
       "      <td>171</td>\n",
       "      <td>12849</td>\n",
       "      <td>2023-10-31</td>\n",
       "      <td>1104</td>\n",
       "      <td>1222</td>\n",
       "      <td>87.741817</td>\n",
       "      <td>3</td>\n",
       "      <td>4837</td>\n",
       "      <td>70</td>\n",
       "      <td>8.315385e-01</td>\n",
       "    </tr>\n",
       "    <tr>\n",
       "      <th>1626</th>\n",
       "      <td>171</td>\n",
       "      <td>12858</td>\n",
       "      <td>2023-10-30</td>\n",
       "      <td>1451</td>\n",
       "      <td>1616</td>\n",
       "      <td>63.512626</td>\n",
       "      <td>0</td>\n",
       "      <td>3072</td>\n",
       "      <td>117</td>\n",
       "      <td>1.340000e+00</td>\n",
       "    </tr>\n",
       "    <tr>\n",
       "      <th>1627</th>\n",
       "      <td>171</td>\n",
       "      <td>12860</td>\n",
       "      <td>2023-10-31</td>\n",
       "      <td>1561</td>\n",
       "      <td>1703</td>\n",
       "      <td>62.677658</td>\n",
       "      <td>0</td>\n",
       "      <td>2125</td>\n",
       "      <td>184</td>\n",
       "      <td>7.692308e-03</td>\n",
       "    </tr>\n",
       "    <tr>\n",
       "      <th>1628</th>\n",
       "      <td>171</td>\n",
       "      <td>12924</td>\n",
       "      <td>2023-11-01</td>\n",
       "      <td>2003</td>\n",
       "      <td>2217</td>\n",
       "      <td>77.918585</td>\n",
       "      <td>9</td>\n",
       "      <td>53</td>\n",
       "      <td>177</td>\n",
       "      <td>1.410769e+00</td>\n",
       "    </tr>\n",
       "    <tr>\n",
       "      <th>1629</th>\n",
       "      <td>171</td>\n",
       "      <td>12925</td>\n",
       "      <td>2023-11-01</td>\n",
       "      <td>1926</td>\n",
       "      <td>2185</td>\n",
       "      <td>68.087200</td>\n",
       "      <td>10</td>\n",
       "      <td>176</td>\n",
       "      <td>242</td>\n",
       "      <td>8.961538e-01</td>\n",
       "    </tr>\n",
       "  </tbody>\n",
       "</table>\n",
       "<p>1630 rows × 10 columns</p>\n",
       "</div>"
      ],
      "text/plain": [
       "      customer_id  campaign_id       date  viewers  pageviews  \\\n",
       "0               2         5073 2022-11-24    45751      93970   \n",
       "1               2         5138 2022-12-01    67039     164489   \n",
       "2               2         5286 2022-12-08    49438      97989   \n",
       "3               2         5333 2022-12-15    49414      95602   \n",
       "4               2         5567 2022-12-22    55133     104726   \n",
       "...           ...          ...        ...      ...        ...   \n",
       "1625          171        12849 2023-10-31     1104       1222   \n",
       "1626          171        12858 2023-10-30     1451       1616   \n",
       "1627          171        12860 2023-10-31     1561       1703   \n",
       "1628          171        12924 2023-11-01     2003       2217   \n",
       "1629          171        12925 2023-11-01     1926       2185   \n",
       "\n",
       "      avg_duration_per_viewer  chats  likes  clicks_sum  click_revenue_sum_usd  \n",
       "0                  147.886337   1170  34670        2123           1.294150e+05  \n",
       "1                  125.591696    779  17729        2008           5.275550e+05  \n",
       "2                  132.506732    498  16364        1203           6.080510e+05  \n",
       "3                  135.549018    855  42533        3642           3.537560e+05  \n",
       "4                  154.623454   2198  34881       11318           3.933031e+06  \n",
       "...                       ...    ...    ...         ...                    ...  \n",
       "1625                87.741817      3   4837          70           8.315385e-01  \n",
       "1626                63.512626      0   3072         117           1.340000e+00  \n",
       "1627                62.677658      0   2125         184           7.692308e-03  \n",
       "1628                77.918585      9     53         177           1.410769e+00  \n",
       "1629                68.087200     10    176         242           8.961538e-01  \n",
       "\n",
       "[1630 rows x 10 columns]"
      ]
     },
     "execution_count": 3,
     "metadata": {},
     "output_type": "execute_result"
    }
   ],
   "source": [
    "base_data"
   ]
  },
  {
   "cell_type": "code",
   "execution_count": 4,
   "id": "c834d95c",
   "metadata": {},
   "outputs": [
    {
     "data": {
      "text/plain": [
       "customer_id                         int64\n",
       "campaign_id                         int64\n",
       "date                       datetime64[ns]\n",
       "viewers                             int64\n",
       "pageviews                           int64\n",
       "avg_duration_per_viewer           float64\n",
       "chats                               int64\n",
       "likes                               int64\n",
       "clicks_sum                          int64\n",
       "click_revenue_sum_usd             float64\n",
       "dtype: object"
      ]
     },
     "execution_count": 4,
     "metadata": {},
     "output_type": "execute_result"
    }
   ],
   "source": [
    "base_data.dtypes"
   ]
  },
  {
   "cell_type": "code",
   "execution_count": 5,
   "id": "4a629e00",
   "metadata": {},
   "outputs": [],
   "source": [
    "clean_data = base_data.dropna() # 1630 -> 1630 no NAs dropped, drops dates as well"
   ]
  },
  {
   "cell_type": "code",
   "execution_count": 6,
   "id": "5b3f8ac7",
   "metadata": {},
   "outputs": [
    {
     "data": {
      "text/html": [
       "<div>\n",
       "<style scoped>\n",
       "    .dataframe tbody tr th:only-of-type {\n",
       "        vertical-align: middle;\n",
       "    }\n",
       "\n",
       "    .dataframe tbody tr th {\n",
       "        vertical-align: top;\n",
       "    }\n",
       "\n",
       "    .dataframe thead th {\n",
       "        text-align: right;\n",
       "    }\n",
       "</style>\n",
       "<table border=\"1\" class=\"dataframe\">\n",
       "  <thead>\n",
       "    <tr style=\"text-align: right;\">\n",
       "      <th></th>\n",
       "      <th>customer_id</th>\n",
       "      <th>campaign_id</th>\n",
       "      <th>viewers</th>\n",
       "      <th>pageviews</th>\n",
       "      <th>avg_duration_per_viewer</th>\n",
       "      <th>chats</th>\n",
       "      <th>likes</th>\n",
       "      <th>clicks_sum</th>\n",
       "      <th>click_revenue_sum_usd</th>\n",
       "    </tr>\n",
       "  </thead>\n",
       "  <tbody>\n",
       "    <tr>\n",
       "      <th>count</th>\n",
       "      <td>1630.000000</td>\n",
       "      <td>1630.000000</td>\n",
       "      <td>1630.000000</td>\n",
       "      <td>1630.00000</td>\n",
       "      <td>1630.000000</td>\n",
       "      <td>1630.000000</td>\n",
       "      <td>1630.000000</td>\n",
       "      <td>1630.000000</td>\n",
       "      <td>1.630000e+03</td>\n",
       "    </tr>\n",
       "    <tr>\n",
       "      <th>mean</th>\n",
       "      <td>116.290798</td>\n",
       "      <td>9471.267485</td>\n",
       "      <td>11422.746626</td>\n",
       "      <td>15585.80184</td>\n",
       "      <td>168.925827</td>\n",
       "      <td>1215.055215</td>\n",
       "      <td>7312.598160</td>\n",
       "      <td>6836.435583</td>\n",
       "      <td>1.618952e+05</td>\n",
       "    </tr>\n",
       "    <tr>\n",
       "      <th>std</th>\n",
       "      <td>71.654225</td>\n",
       "      <td>2118.740342</td>\n",
       "      <td>25225.830944</td>\n",
       "      <td>32423.44027</td>\n",
       "      <td>87.794446</td>\n",
       "      <td>4109.785768</td>\n",
       "      <td>13812.815102</td>\n",
       "      <td>12854.960503</td>\n",
       "      <td>7.205739e+05</td>\n",
       "    </tr>\n",
       "    <tr>\n",
       "      <th>min</th>\n",
       "      <td>2.000000</td>\n",
       "      <td>4025.000000</td>\n",
       "      <td>520.000000</td>\n",
       "      <td>613.00000</td>\n",
       "      <td>24.352381</td>\n",
       "      <td>0.000000</td>\n",
       "      <td>0.000000</td>\n",
       "      <td>17.000000</td>\n",
       "      <td>0.000000e+00</td>\n",
       "    </tr>\n",
       "    <tr>\n",
       "      <th>25%</th>\n",
       "      <td>29.000000</td>\n",
       "      <td>8066.250000</td>\n",
       "      <td>1562.250000</td>\n",
       "      <td>1785.25000</td>\n",
       "      <td>102.642131</td>\n",
       "      <td>14.000000</td>\n",
       "      <td>129.000000</td>\n",
       "      <td>239.250000</td>\n",
       "      <td>1.451923e-01</td>\n",
       "    </tr>\n",
       "    <tr>\n",
       "      <th>50%</th>\n",
       "      <td>171.000000</td>\n",
       "      <td>9264.500000</td>\n",
       "      <td>3070.500000</td>\n",
       "      <td>3809.50000</td>\n",
       "      <td>160.647649</td>\n",
       "      <td>82.000000</td>\n",
       "      <td>1752.500000</td>\n",
       "      <td>1074.000000</td>\n",
       "      <td>8.280769e-01</td>\n",
       "    </tr>\n",
       "    <tr>\n",
       "      <th>75%</th>\n",
       "      <td>171.000000</td>\n",
       "      <td>11417.500000</td>\n",
       "      <td>10804.250000</td>\n",
       "      <td>15694.00000</td>\n",
       "      <td>202.561446</td>\n",
       "      <td>855.000000</td>\n",
       "      <td>9767.500000</td>\n",
       "      <td>7517.250000</td>\n",
       "      <td>3.441923e+00</td>\n",
       "    </tr>\n",
       "    <tr>\n",
       "      <th>max</th>\n",
       "      <td>171.000000</td>\n",
       "      <td>12925.000000</td>\n",
       "      <td>266270.000000</td>\n",
       "      <td>293050.00000</td>\n",
       "      <td>960.020370</td>\n",
       "      <td>105875.000000</td>\n",
       "      <td>225468.000000</td>\n",
       "      <td>150736.000000</td>\n",
       "      <td>1.474316e+07</td>\n",
       "    </tr>\n",
       "  </tbody>\n",
       "</table>\n",
       "</div>"
      ],
      "text/plain": [
       "       customer_id   campaign_id        viewers     pageviews  \\\n",
       "count  1630.000000   1630.000000    1630.000000    1630.00000   \n",
       "mean    116.290798   9471.267485   11422.746626   15585.80184   \n",
       "std      71.654225   2118.740342   25225.830944   32423.44027   \n",
       "min       2.000000   4025.000000     520.000000     613.00000   \n",
       "25%      29.000000   8066.250000    1562.250000    1785.25000   \n",
       "50%     171.000000   9264.500000    3070.500000    3809.50000   \n",
       "75%     171.000000  11417.500000   10804.250000   15694.00000   \n",
       "max     171.000000  12925.000000  266270.000000  293050.00000   \n",
       "\n",
       "       avg_duration_per_viewer          chats          likes     clicks_sum  \\\n",
       "count              1630.000000    1630.000000    1630.000000    1630.000000   \n",
       "mean                168.925827    1215.055215    7312.598160    6836.435583   \n",
       "std                  87.794446    4109.785768   13812.815102   12854.960503   \n",
       "min                  24.352381       0.000000       0.000000      17.000000   \n",
       "25%                 102.642131      14.000000     129.000000     239.250000   \n",
       "50%                 160.647649      82.000000    1752.500000    1074.000000   \n",
       "75%                 202.561446     855.000000    9767.500000    7517.250000   \n",
       "max                 960.020370  105875.000000  225468.000000  150736.000000   \n",
       "\n",
       "       click_revenue_sum_usd  \n",
       "count           1.630000e+03  \n",
       "mean            1.618952e+05  \n",
       "std             7.205739e+05  \n",
       "min             0.000000e+00  \n",
       "25%             1.451923e-01  \n",
       "50%             8.280769e-01  \n",
       "75%             3.441923e+00  \n",
       "max             1.474316e+07  "
      ]
     },
     "execution_count": 6,
     "metadata": {},
     "output_type": "execute_result"
    }
   ],
   "source": [
    "clean_data.describe()"
   ]
  },
  {
   "cell_type": "code",
   "execution_count": 7,
   "id": "0abcd379",
   "metadata": {},
   "outputs": [],
   "source": [
    "# Set min click_revenue_sum to USD $10\n",
    "# clean_data = clean_data[(clean_data['click_revenue_sum_usd'] >= 10)]"
   ]
  },
  {
   "cell_type": "code",
   "execution_count": 8,
   "id": "275f494c",
   "metadata": {},
   "outputs": [
    {
     "data": {
      "text/html": [
       "<div>\n",
       "<style scoped>\n",
       "    .dataframe tbody tr th:only-of-type {\n",
       "        vertical-align: middle;\n",
       "    }\n",
       "\n",
       "    .dataframe tbody tr th {\n",
       "        vertical-align: top;\n",
       "    }\n",
       "\n",
       "    .dataframe thead th {\n",
       "        text-align: right;\n",
       "    }\n",
       "</style>\n",
       "<table border=\"1\" class=\"dataframe\">\n",
       "  <thead>\n",
       "    <tr style=\"text-align: right;\">\n",
       "      <th></th>\n",
       "      <th>customer_id</th>\n",
       "      <th>campaign_id</th>\n",
       "      <th>viewers</th>\n",
       "      <th>pageviews</th>\n",
       "      <th>avg_duration_per_viewer</th>\n",
       "      <th>chats</th>\n",
       "      <th>likes</th>\n",
       "      <th>clicks_sum</th>\n",
       "      <th>click_revenue_sum_usd</th>\n",
       "    </tr>\n",
       "  </thead>\n",
       "  <tbody>\n",
       "    <tr>\n",
       "      <th>count</th>\n",
       "      <td>1630.000000</td>\n",
       "      <td>1630.000000</td>\n",
       "      <td>1630.000000</td>\n",
       "      <td>1630.00000</td>\n",
       "      <td>1630.000000</td>\n",
       "      <td>1630.000000</td>\n",
       "      <td>1630.000000</td>\n",
       "      <td>1630.000000</td>\n",
       "      <td>1.630000e+03</td>\n",
       "    </tr>\n",
       "    <tr>\n",
       "      <th>mean</th>\n",
       "      <td>116.290798</td>\n",
       "      <td>9471.267485</td>\n",
       "      <td>11422.746626</td>\n",
       "      <td>15585.80184</td>\n",
       "      <td>168.925827</td>\n",
       "      <td>1215.055215</td>\n",
       "      <td>7312.598160</td>\n",
       "      <td>6836.435583</td>\n",
       "      <td>1.618952e+05</td>\n",
       "    </tr>\n",
       "    <tr>\n",
       "      <th>std</th>\n",
       "      <td>71.654225</td>\n",
       "      <td>2118.740342</td>\n",
       "      <td>25225.830944</td>\n",
       "      <td>32423.44027</td>\n",
       "      <td>87.794446</td>\n",
       "      <td>4109.785768</td>\n",
       "      <td>13812.815102</td>\n",
       "      <td>12854.960503</td>\n",
       "      <td>7.205739e+05</td>\n",
       "    </tr>\n",
       "    <tr>\n",
       "      <th>min</th>\n",
       "      <td>2.000000</td>\n",
       "      <td>4025.000000</td>\n",
       "      <td>520.000000</td>\n",
       "      <td>613.00000</td>\n",
       "      <td>24.352381</td>\n",
       "      <td>0.000000</td>\n",
       "      <td>0.000000</td>\n",
       "      <td>17.000000</td>\n",
       "      <td>0.000000e+00</td>\n",
       "    </tr>\n",
       "    <tr>\n",
       "      <th>25%</th>\n",
       "      <td>29.000000</td>\n",
       "      <td>8066.250000</td>\n",
       "      <td>1562.250000</td>\n",
       "      <td>1785.25000</td>\n",
       "      <td>102.642131</td>\n",
       "      <td>14.000000</td>\n",
       "      <td>129.000000</td>\n",
       "      <td>239.250000</td>\n",
       "      <td>1.451923e-01</td>\n",
       "    </tr>\n",
       "    <tr>\n",
       "      <th>50%</th>\n",
       "      <td>171.000000</td>\n",
       "      <td>9264.500000</td>\n",
       "      <td>3070.500000</td>\n",
       "      <td>3809.50000</td>\n",
       "      <td>160.647649</td>\n",
       "      <td>82.000000</td>\n",
       "      <td>1752.500000</td>\n",
       "      <td>1074.000000</td>\n",
       "      <td>8.280769e-01</td>\n",
       "    </tr>\n",
       "    <tr>\n",
       "      <th>75%</th>\n",
       "      <td>171.000000</td>\n",
       "      <td>11417.500000</td>\n",
       "      <td>10804.250000</td>\n",
       "      <td>15694.00000</td>\n",
       "      <td>202.561446</td>\n",
       "      <td>855.000000</td>\n",
       "      <td>9767.500000</td>\n",
       "      <td>7517.250000</td>\n",
       "      <td>3.441923e+00</td>\n",
       "    </tr>\n",
       "    <tr>\n",
       "      <th>max</th>\n",
       "      <td>171.000000</td>\n",
       "      <td>12925.000000</td>\n",
       "      <td>266270.000000</td>\n",
       "      <td>293050.00000</td>\n",
       "      <td>960.020370</td>\n",
       "      <td>105875.000000</td>\n",
       "      <td>225468.000000</td>\n",
       "      <td>150736.000000</td>\n",
       "      <td>1.474316e+07</td>\n",
       "    </tr>\n",
       "  </tbody>\n",
       "</table>\n",
       "</div>"
      ],
      "text/plain": [
       "       customer_id   campaign_id        viewers     pageviews  \\\n",
       "count  1630.000000   1630.000000    1630.000000    1630.00000   \n",
       "mean    116.290798   9471.267485   11422.746626   15585.80184   \n",
       "std      71.654225   2118.740342   25225.830944   32423.44027   \n",
       "min       2.000000   4025.000000     520.000000     613.00000   \n",
       "25%      29.000000   8066.250000    1562.250000    1785.25000   \n",
       "50%     171.000000   9264.500000    3070.500000    3809.50000   \n",
       "75%     171.000000  11417.500000   10804.250000   15694.00000   \n",
       "max     171.000000  12925.000000  266270.000000  293050.00000   \n",
       "\n",
       "       avg_duration_per_viewer          chats          likes     clicks_sum  \\\n",
       "count              1630.000000    1630.000000    1630.000000    1630.000000   \n",
       "mean                168.925827    1215.055215    7312.598160    6836.435583   \n",
       "std                  87.794446    4109.785768   13812.815102   12854.960503   \n",
       "min                  24.352381       0.000000       0.000000      17.000000   \n",
       "25%                 102.642131      14.000000     129.000000     239.250000   \n",
       "50%                 160.647649      82.000000    1752.500000    1074.000000   \n",
       "75%                 202.561446     855.000000    9767.500000    7517.250000   \n",
       "max                 960.020370  105875.000000  225468.000000  150736.000000   \n",
       "\n",
       "       click_revenue_sum_usd  \n",
       "count           1.630000e+03  \n",
       "mean            1.618952e+05  \n",
       "std             7.205739e+05  \n",
       "min             0.000000e+00  \n",
       "25%             1.451923e-01  \n",
       "50%             8.280769e-01  \n",
       "75%             3.441923e+00  \n",
       "max             1.474316e+07  "
      ]
     },
     "execution_count": 8,
     "metadata": {},
     "output_type": "execute_result"
    }
   ],
   "source": [
    "clean_data.describe()"
   ]
  },
  {
   "cell_type": "code",
   "execution_count": 9,
   "id": "db7310cb",
   "metadata": {},
   "outputs": [],
   "source": [
    "clean_data = clean_data.drop(columns=['date', 'customer_id', 'campaign_id'])"
   ]
  },
  {
   "cell_type": "code",
   "execution_count": 10,
   "id": "8ab3d048",
   "metadata": {},
   "outputs": [],
   "source": [
    "clean_data_corr = clean_data.corr()"
   ]
  },
  {
   "cell_type": "code",
   "execution_count": 11,
   "id": "a6c15b3c",
   "metadata": {},
   "outputs": [
    {
     "data": {
      "image/png": "[encoded data removed]",
      "text/plain": [
       "<Figure size 2000x2000 with 2 Axes>"
      ]
     },
     "metadata": {},
     "output_type": "display_data"
    }
   ],
   "source": [
    "mask = np.triu(np.ones_like(clean_data_corr)) # add a mask\n",
    "plt.figure(figsize=(20, 20))\n",
    "sns.heatmap(clean_data_corr, vmax=0.6, annot=True, mask=mask)\n",
    "plt.show()  "
   ]
  },
  {
   "cell_type": "code",
   "execution_count": 12,
   "id": "3c7c6b9e",
   "metadata": {},
   "outputs": [],
   "source": [
    "# Load dependencies/packages\n",
    "# import numpy as np # for array operations\n",
    "# import pandas as pd # for neat tables, database-like grouping/summary tables & csv_read\n",
    "# import matplotlib.pyplot as plt # for the occasional plot\n",
    "# import seaborn as sns # for the occasional plot\n",
    "# sns.set_theme(style=\"whitegrid\")\n",
    "import random # for random selection of starting variables/features/predictors\n",
    "\n",
    "### Regression Machine Learning Model Architectures ###\n",
    "from sklearn.model_selection import train_test_split, GridSearchCV # train / test split method & Grid Search cross validation\n",
    "from multiprocessing import cpu_count\n",
    "\n",
    "# baseline methods\n",
    "from sklearn.linear_model import ElasticNet \n",
    "# (1) ElasticNet, parameter to tune: 'L1 ratio', where L1=1 Lasso, L1=0 i.e. L2=1 Ridge and 0<L1<1 is ElasticNet\n",
    "from sklearn.neighbors import KNeighborsRegressor # (2) KNN, parameter to tune: 'k neighbors'\n",
    "from sklearn.svm import SVR # (3) SVM Regression, parameters to tune: 'C regularization par' AND 'epsilon'\n",
    "\n",
    "# ensemble methods\n",
    "from sklearn.ensemble import RandomForestRegressor \n",
    "# (4) Random Forest (regression) split by 'squared error', parameter to tune: ... \n",
    "# ... 'min_samples_leaf' i.e. extent of how much the are individual trees grown AND 'n_estimators'\n",
    "from sklearn.ensemble import AdaBoostRegressor  \n",
    "from sklearn.ensemble import GradientBoostingRegressor \n",
    "# (5, 6) Boosting (regression), parameter to tune: 'learning rate' AND 'n_estimators'\n",
    " \n",
    "# neural networks\n",
    "from sklearn.neural_network import MLPRegressor\n",
    "# (7) Neural Network, parameter to tune: 'alpha' AND 'hidden layer architecture'\n",
    "\n",
    "# regression model metrics\n",
    "from sklearn.metrics import mean_absolute_error, r2_score\n",
    "\n",
    "# Ignore convergence warnings\n",
    "from warnings import simplefilter\n",
    "from sklearn.exceptions import ConvergenceWarning\n",
    "simplefilter(\"ignore\", category=ConvergenceWarning)"
   ]
  },
  {
   "cell_type": "code",
   "execution_count": 13,
   "id": "b90fcff1",
   "metadata": {},
   "outputs": [],
   "source": [
    "def normalize_data(data):\n",
    "    return (data - np.min(data)) / (np.max(data) - np.min(data))"
   ]
  },
  {
   "cell_type": "code",
   "execution_count": 14,
   "id": "0fc80dc2",
   "metadata": {},
   "outputs": [],
   "source": [
    "model_data = clean_data"
   ]
  },
  {
   "cell_type": "code",
   "execution_count": 15,
   "id": "14225d58",
   "metadata": {},
   "outputs": [],
   "source": [
    "for col in model_data.columns[:-1]:\n",
    "    model_data[col] = normalize_data(model_data[col]) # cast to 0-1 scale"
   ]
  },
  {
   "cell_type": "code",
   "execution_count": 16,
   "id": "a334d186",
   "metadata": {},
   "outputs": [],
   "source": [
    "X_train, X_test, y_train, y_test = train_test_split(\n",
    "    model_data.drop(columns=['click_revenue_sum_usd']), model_data['click_revenue_sum_usd'], test_size=0.3, random_state=57)"
   ]
  },
  {
   "cell_type": "code",
   "execution_count": 17,
   "id": "fbcd9ceb",
   "metadata": {},
   "outputs": [],
   "source": [
    "# Results DataFrame\n",
    "col_names = [\"Reg Model Type\", \"MSE best params\", \"MSE\", \"r2 best params\", \"r2\"]\n",
    "results_df = pd.DataFrame(columns=col_names)\n",
    "results_df[\"Reg Model Type\"] = [\"ElasticNet\", \"KNN\", \"SVM\", \"RandomForest\",\n",
    "                               \"AdaBoost\", \"GradientBoost\", \"NeuralNet\"]\n",
    "MSE_best_params_list = []\n",
    "MSE_list = []\n",
    "r2_best_params_list = []\n",
    "r2_list = []"
   ]
  },
  {
   "cell_type": "code",
   "execution_count": 18,
   "id": "1df3049e",
   "metadata": {},
   "outputs": [
    {
     "name": "stdout",
     "output_type": "stream",
     "text": [
      "{'l1_ratio': 1}\n",
      "301635454765.42163\n"
     ]
    }
   ],
   "source": [
    "### Machine Learning Algorithm Applications ###\n",
    "# (1) Linear Regression, ElasticNet MSE\n",
    "param_grid = {\n",
    "    \"l1_ratio\": [0, 0.1, 0.2, 0.35, 0.5, 0.65, 0.8, 0.9, 1],\n",
    "}\n",
    "elasticnet_MSE_model = GridSearchCV(estimator=ElasticNet(),\n",
    "                             param_grid=param_grid, \n",
    "                             scoring='neg_mean_squared_error', cv=5, \n",
    "                             n_jobs=cpu_count(), refit=True)\n",
    "elasticnet_MSE_model.fit(X_train, y_train)\n",
    "elasticnet_MSE_best_params = elasticnet_MSE_model.best_params_ \n",
    "print(elasticnet_MSE_best_params) # i.e l1=0, i.e. Ridge\n",
    "elasticnet_MSE_score = abs(elasticnet_MSE_model.score(X_test, y_test))\n",
    "print(elasticnet_MSE_score)"
   ]
  },
  {
   "cell_type": "code",
   "execution_count": 19,
   "id": "dcfe7ecf",
   "metadata": {},
   "outputs": [
    {
     "name": "stdout",
     "output_type": "stream",
     "text": [
      "{'l1_ratio': 1}\n",
      "0.08547648752194836\n"
     ]
    }
   ],
   "source": [
    "# (1) Linear Regression, ElasticNet r^2\n",
    "param_grid = {\n",
    "    \"l1_ratio\": [0, 0.1, 0.2, 0.35, 0.5, 0.65, 0.8, 0.9, 1],\n",
    "}\n",
    "elasticnet_r2_model = GridSearchCV(estimator=ElasticNet(),\n",
    "                             param_grid=param_grid, \n",
    "                             scoring='r2', cv=5, \n",
    "                             n_jobs=cpu_count(), refit=True)\n",
    "elasticnet_r2_model.fit(X_train, y_train)\n",
    "elasticnet_r2_best_params = elasticnet_r2_model.best_params_ \n",
    "print(elasticnet_r2_best_params) # i.e l1=0, i.e. Ridge\n",
    "elasticnet_r2_score = elasticnet_r2_model.score(X_test, y_test)\n",
    "print(elasticnet_r2_score)"
   ]
  },
  {
   "cell_type": "code",
   "execution_count": 20,
   "id": "b627a6de",
   "metadata": {},
   "outputs": [],
   "source": [
    "MSE_best_params_list.append(str(elasticnet_MSE_best_params))\n",
    "MSE_list.append(elasticnet_MSE_score)\n",
    "r2_best_params_list.append(str(elasticnet_r2_best_params))\n",
    "r2_list.append(elasticnet_r2_score)"
   ]
  },
  {
   "cell_type": "code",
   "execution_count": 21,
   "id": "84a2f0a5",
   "metadata": {},
   "outputs": [
    {
     "name": "stdout",
     "output_type": "stream",
     "text": [
      "{'n_neighbors': 5}\n",
      "333843513920.0511\n"
     ]
    }
   ],
   "source": [
    "# (2) KNN Regression MSE\n",
    "param_grid = {\n",
    "    \"n_neighbors\": np.arange(start=3, stop=15, step=2),\n",
    "}\n",
    "\n",
    "knn_MSE_model = GridSearchCV(estimator=KNeighborsRegressor(),\n",
    "                      param_grid=param_grid,\n",
    "                      scoring='neg_mean_squared_error', cv = 5,\n",
    "                      n_jobs=cpu_count(), refit = True)\n",
    "knn_MSE_model.fit(X_train, y_train)\n",
    "knn_MSE_best_params = knn_MSE_model.best_params_ \n",
    "print(knn_MSE_best_params)\n",
    "knn_MSE_score = abs(knn_MSE_model.score(X_test, y_test))\n",
    "print(knn_MSE_score)"
   ]
  },
  {
   "cell_type": "code",
   "execution_count": 22,
   "id": "acbbba1a",
   "metadata": {},
   "outputs": [
    {
     "name": "stdout",
     "output_type": "stream",
     "text": [
      "{'n_neighbors': 11}\n",
      "0.1625263361383904\n"
     ]
    }
   ],
   "source": [
    "# (2) KNN Regression r^2\n",
    "param_grid = {\n",
    "    \"n_neighbors\": np.arange(start=3, stop=15, step=2),\n",
    "}\n",
    "\n",
    "knn_r2_model = GridSearchCV(estimator=KNeighborsRegressor(),\n",
    "                      param_grid=param_grid,\n",
    "                      scoring='r2', cv = 5,\n",
    "                      n_jobs=cpu_count(), refit = True)\n",
    "knn_r2_model.fit(X_train, y_train)\n",
    "knn_r2_best_params = knn_r2_model.best_params_ \n",
    "print(knn_r2_best_params)\n",
    "knn_r2_score = knn_r2_model.score(X_test, y_test)\n",
    "print(knn_r2_score)"
   ]
  },
  {
   "cell_type": "code",
   "execution_count": 23,
   "id": "8dde3fd9",
   "metadata": {},
   "outputs": [],
   "source": [
    "MSE_best_params_list.append(str(knn_MSE_best_params))\n",
    "MSE_list.append(knn_MSE_score)\n",
    "r2_best_params_list.append(str(knn_r2_best_params))\n",
    "r2_list.append(knn_r2_score)"
   ]
  },
  {
   "cell_type": "code",
   "execution_count": 24,
   "id": "f892acd8",
   "metadata": {},
   "outputs": [
    {
     "name": "stdout",
     "output_type": "stream",
     "text": [
      "{'C': 10, 'epsilon': 1}\n",
      "349489657757.0521\n"
     ]
    }
   ],
   "source": [
    "# (3) SVM Regression MSE\n",
    "param_grid = {\n",
    "    \"C\": [0.5, 1, 5, 10],\n",
    "    \"epsilon\": [0.1, 0.2, 0.35, 0.5, 0.8, 1]\n",
    "}\n",
    "\n",
    "svm_MSE_model = GridSearchCV(estimator=SVR(),\n",
    "                      param_grid=param_grid,\n",
    "                      scoring='neg_mean_squared_error', cv = 5,\n",
    "                      n_jobs=cpu_count(), refit = True)\n",
    "svm_MSE_model.fit(X_train, y_train)\n",
    "svm_MSE_best_params = svm_MSE_model.best_params_ \n",
    "print(svm_MSE_best_params)\n",
    "svm_MSE_score = abs(svm_MSE_model.score(X_test, y_test))\n",
    "print(svm_MSE_score)"
   ]
  },
  {
   "cell_type": "code",
   "execution_count": 25,
   "id": "5400187c",
   "metadata": {},
   "outputs": [
    {
     "name": "stdout",
     "output_type": "stream",
     "text": [
      "{'C': 10, 'epsilon': 1}\n",
      "-0.05961187366151455\n"
     ]
    }
   ],
   "source": [
    "# (3) SVM Regression r^2\n",
    "param_grid = {\n",
    "    \"C\": [0.5, 1, 5, 10],\n",
    "    \"epsilon\": [0.1, 0.2, 0.35, 0.5, 0.8, 1]\n",
    "}\n",
    "\n",
    "svm_r2_model = GridSearchCV(estimator=SVR(),\n",
    "                      param_grid=param_grid,\n",
    "                      scoring='r2', cv = 5,\n",
    "                      n_jobs=cpu_count(), refit = True)\n",
    "svm_r2_model.fit(X_train, y_train)\n",
    "svm_r2_best_params = svm_r2_model.best_params_ \n",
    "print(svm_r2_best_params)\n",
    "svm_r2_score = svm_r2_model.score(X_test, y_test)\n",
    "print(svm_r2_score)"
   ]
  },
  {
   "cell_type": "code",
   "execution_count": 26,
   "id": "fb9afe84",
   "metadata": {},
   "outputs": [],
   "source": [
    "MSE_best_params_list.append(str(svm_MSE_best_params))\n",
    "MSE_list.append(svm_MSE_score)\n",
    "r2_best_params_list.append(str(svm_r2_best_params))\n",
    "r2_list.append(svm_r2_score)"
   ]
  },
  {
   "cell_type": "code",
   "execution_count": 27,
   "id": "f382e133",
   "metadata": {},
   "outputs": [
    {
     "name": "stdout",
     "output_type": "stream",
     "text": [
      "{'max_features': 'sqrt', 'min_samples_leaf': 1, 'n_estimators': 200}\n",
      "283593930496.8055\n"
     ]
    }
   ],
   "source": [
    "# (4) Random Forest MSE\n",
    "param_grid = {\n",
    "    \"n_estimators\": [50, 100, 150, 200, 250],\n",
    "    \"min_samples_leaf\": [1, 5, 10, 20, 50],\n",
    "    \"max_features\": ['sqrt'],\n",
    "}\n",
    "\n",
    "randfor_MSE_model = GridSearchCV(estimator=RandomForestRegressor(),\n",
    "                        param_grid=param_grid,\n",
    "                        scoring='neg_mean_squared_error', cv=5,\n",
    "                        n_jobs=cpu_count(), refit=True)\n",
    "randfor_MSE_model.fit(X_train, y_train)\n",
    "randfor_MSE_best_params = randfor_MSE_model.best_params_ \n",
    "print(randfor_MSE_best_params)\n",
    "randfor_MSE_score = abs(randfor_MSE_model.score(X_test, y_test))\n",
    "print(randfor_MSE_score)"
   ]
  },
  {
   "cell_type": "code",
   "execution_count": 28,
   "id": "0967d62b",
   "metadata": {},
   "outputs": [
    {
     "name": "stdout",
     "output_type": "stream",
     "text": [
      "{'max_features': 'sqrt', 'min_samples_leaf': 10, 'n_estimators': 50}\n",
      "0.1911060102491252\n"
     ]
    }
   ],
   "source": [
    "# (4) Random Forest r^2\n",
    "param_grid = {\n",
    "    \"n_estimators\": [50, 100, 150, 200, 250],\n",
    "    \"min_samples_leaf\": [1, 5, 10, 20, 50],\n",
    "    \"max_features\": ['sqrt'],\n",
    "}\n",
    "\n",
    "randfor_r2_model = GridSearchCV(estimator=RandomForestRegressor(),\n",
    "                        param_grid=param_grid,\n",
    "                        scoring='r2', cv=5,\n",
    "                        n_jobs=cpu_count(), refit=True)\n",
    "randfor_r2_model.fit(X_train, y_train)\n",
    "randfor_r2_best_params = randfor_r2_model.best_params_ \n",
    "print(randfor_r2_best_params)\n",
    "randfor_r2_score = randfor_r2_model.score(X_test, y_test)\n",
    "print(randfor_r2_score)"
   ]
  },
  {
   "cell_type": "code",
   "execution_count": 29,
   "id": "ae3ecf70",
   "metadata": {},
   "outputs": [],
   "source": [
    "MSE_best_params_list.append(str(randfor_MSE_best_params))\n",
    "MSE_list.append(randfor_MSE_score)\n",
    "r2_best_params_list.append(str(randfor_r2_best_params))\n",
    "r2_list.append(randfor_r2_score)"
   ]
  },
  {
   "cell_type": "code",
   "execution_count": 30,
   "id": "2da40e66",
   "metadata": {},
   "outputs": [
    {
     "name": "stdout",
     "output_type": "stream",
     "text": [
      "{'learning_rate': 0.1, 'n_estimators': 50}\n",
      "391116081727.68665\n"
     ]
    }
   ],
   "source": [
    "# (5) AdaBoost MSE\n",
    "param_grid = {\n",
    "    \"n_estimators\": [50, 100, 200, 400],\n",
    "    \"learning_rate\": [0.1, 0.25, 0.5],\n",
    "}\n",
    "\n",
    "adaboost_MSE_model = GridSearchCV(estimator=AdaBoostRegressor(),\n",
    "                        param_grid=param_grid,\n",
    "                        scoring='neg_mean_squared_error', cv=5,\n",
    "                        n_jobs=cpu_count(), refit=True)\n",
    "adaboost_MSE_model.fit(X_train, y_train)\n",
    "adaboost_MSE_best_params = adaboost_MSE_model.best_params_ \n",
    "print(adaboost_MSE_best_params)\n",
    "adaboost_MSE_score = abs(adaboost_MSE_model.score(X_test, y_test))\n",
    "print(adaboost_MSE_score)"
   ]
  },
  {
   "cell_type": "code",
   "execution_count": 31,
   "id": "9369ee8e",
   "metadata": {},
   "outputs": [
    {
     "name": "stdout",
     "output_type": "stream",
     "text": [
      "{'learning_rate': 0.1, 'n_estimators': 50}\n",
      "-0.20564116724591242\n"
     ]
    }
   ],
   "source": [
    "# (5) AdaBoost r^2\n",
    "param_grid = {\n",
    "    \"n_estimators\": [50, 100, 200], # narrowed search\n",
    "    \"learning_rate\": [0.1, 0.25, 0.5],\n",
    "}\n",
    "\n",
    "adaboost_r2_model = GridSearchCV(estimator=AdaBoostRegressor(),\n",
    "                        param_grid=param_grid,\n",
    "                        scoring='r2', cv=5,\n",
    "                        n_jobs=cpu_count(), refit=True)\n",
    "adaboost_r2_model.fit(X_train, y_train)\n",
    "adaboost_r2_best_params = adaboost_r2_model.best_params_ \n",
    "print(adaboost_r2_best_params)\n",
    "adaboost_r2_score = adaboost_r2_model.score(X_test, y_test)\n",
    "print(adaboost_r2_score)"
   ]
  },
  {
   "cell_type": "code",
   "execution_count": 32,
   "id": "76624ce8",
   "metadata": {},
   "outputs": [],
   "source": [
    "MSE_best_params_list.append(str(adaboost_MSE_best_params))\n",
    "MSE_list.append(adaboost_MSE_score)\n",
    "r2_best_params_list.append(str(adaboost_r2_best_params))\n",
    "r2_list.append(adaboost_r2_score)"
   ]
  },
  {
   "cell_type": "code",
   "execution_count": 33,
   "id": "ea60df7e",
   "metadata": {},
   "outputs": [
    {
     "name": "stdout",
     "output_type": "stream",
     "text": [
      "{'learning_rate': 0.1, 'n_estimators': 100}\n",
      "420518040092.10236\n"
     ]
    }
   ],
   "source": [
    "# (6) GradientBoost MSE\n",
    "param_grid = {\n",
    "    \"n_estimators\": [100, 200, 400],\n",
    "    \"learning_rate\": [0.1, 0.25, 0.5],\n",
    "}\n",
    "\n",
    "gradboost_MSE_model = GridSearchCV(estimator=GradientBoostingRegressor(),\n",
    "                        param_grid=param_grid,\n",
    "                        scoring='neg_mean_squared_error', cv=5,\n",
    "                        n_jobs=cpu_count(), refit=True)\n",
    "gradboost_MSE_model.fit(X_train, y_train)\n",
    "gradboost_MSE_best_params = gradboost_MSE_model.best_params_ \n",
    "print(gradboost_MSE_best_params)\n",
    "gradboost_MSE_score = abs(gradboost_MSE_model.score(X_test, y_test))\n",
    "print(gradboost_MSE_score)"
   ]
  },
  {
   "cell_type": "code",
   "execution_count": 34,
   "id": "81ccb49b",
   "metadata": {},
   "outputs": [
    {
     "name": "stdout",
     "output_type": "stream",
     "text": [
      "{'learning_rate': 0.1, 'n_estimators': 100}\n",
      "-0.3558712553091312\n"
     ]
    }
   ],
   "source": [
    "# (6) GradientBoost r^2\n",
    "param_grid = {\n",
    "    \"n_estimators\": [100, 200, 400],\n",
    "    \"learning_rate\": [0.1, 0.25, 0.5],\n",
    "}\n",
    "\n",
    "gradboost_r2_model = GridSearchCV(estimator=GradientBoostingRegressor(),\n",
    "                        param_grid=param_grid,\n",
    "                        scoring='r2', cv=5,\n",
    "                        n_jobs=cpu_count(), refit=True)\n",
    "gradboost_r2_model.fit(X_train, y_train)\n",
    "gradboost_r2_best_params = gradboost_r2_model.best_params_ \n",
    "print(gradboost_r2_best_params)\n",
    "gradboost_r2_score = gradboost_r2_model.score(X_test, y_test)\n",
    "print(gradboost_r2_score)"
   ]
  },
  {
   "cell_type": "code",
   "execution_count": 35,
   "id": "4ceda5db",
   "metadata": {},
   "outputs": [],
   "source": [
    "MSE_best_params_list.append(str(gradboost_MSE_best_params))\n",
    "MSE_list.append(gradboost_MSE_score)\n",
    "r2_best_params_list.append(str(gradboost_r2_best_params))\n",
    "r2_list.append(gradboost_r2_score)"
   ]
  },
  {
   "cell_type": "code",
   "execution_count": 36,
   "id": "a296bf10",
   "metadata": {},
   "outputs": [
    {
     "name": "stdout",
     "output_type": "stream",
     "text": [
      "{'alpha': 1e-05, 'hidden_layer_sizes': (400,)}\n",
      "349307941316.7987\n"
     ]
    }
   ],
   "source": [
    "# (7) Neural Network Regression MSE\n",
    "param_grid = {\n",
    "    'alpha': [1e-05, 0.001, 0.1, 0.35, 0.5, 0.8, 1],\n",
    "    'hidden_layer_sizes': [(10,), (25,), (50,), (100,), (200,), (300,), (400,), (6, 3, 2), (10, 2), (15, 2), (20,2), (5, 3)],\n",
    "}\n",
    "\n",
    "cvnn_MSE_model = GridSearchCV(estimator=MLPRegressor(activation='relu', solver='adam'),\n",
    "                        param_grid=param_grid,\n",
    "                        scoring='neg_mean_squared_error', cv=5,\n",
    "                        n_jobs=cpu_count(), refit=True)\n",
    "cvnn_MSE_model.fit(X_train, y_train)\n",
    "cvnn_MSE_best_params = cvnn_MSE_model.best_params_ \n",
    "print(cvnn_MSE_best_params)\n",
    "cvnn_MSE_score = abs(cvnn_MSE_model.score(X_test, y_test))\n",
    "print(cvnn_MSE_score)"
   ]
  },
  {
   "cell_type": "code",
   "execution_count": 37,
   "id": "451de67b",
   "metadata": {},
   "outputs": [
    {
     "name": "stdout",
     "output_type": "stream",
     "text": [
      "{'alpha': 1e-05, 'hidden_layer_sizes': (400,)}\n",
      "-0.05905744836057569\n"
     ]
    }
   ],
   "source": [
    "# (7) Neural Network Regression r^2\n",
    "param_grid = {\n",
    "    'alpha': [1e-05, 0.001, 0.1, 0.15, 0.2, 0.5, 0.8], # narrowed search\n",
    "    'hidden_layer_sizes': [(200,), (300,), (400,), (20,2), (5, 5), (6, 3, 2)], # narrowed search\n",
    "}\n",
    "\n",
    "cvnn_r2_model = GridSearchCV(estimator=MLPRegressor(activation='relu', solver='adam'),\n",
    "                        param_grid=param_grid,\n",
    "                        scoring='r2', cv=5,\n",
    "                        n_jobs=cpu_count(), refit=True)\n",
    "cvnn_r2_model.fit(X_train, y_train)\n",
    "cvnn_r2_best_params = cvnn_r2_model.best_params_ \n",
    "print(cvnn_r2_best_params)\n",
    "cvnn_r2_score = cvnn_r2_model.score(X_test, y_test)\n",
    "print(cvnn_r2_score)"
   ]
  },
  {
   "cell_type": "code",
   "execution_count": 38,
   "id": "f5086657",
   "metadata": {},
   "outputs": [],
   "source": [
    "MSE_best_params_list.append(str(cvnn_MSE_best_params))\n",
    "MSE_list.append(cvnn_MSE_score)\n",
    "r2_best_params_list.append(str(cvnn_r2_best_params))\n",
    "r2_list.append(cvnn_r2_score)"
   ]
  },
  {
   "cell_type": "code",
   "execution_count": 39,
   "id": "97704e34",
   "metadata": {},
   "outputs": [],
   "source": [
    "results_df[\"MSE best params\"] = MSE_best_params_list\n",
    "results_df[\"MSE\"] = MSE_list\n",
    "results_df[\"r2 best params\"] = r2_best_params_list\n",
    "results_df[\"r2\"] = r2_list"
   ]
  },
  {
   "cell_type": "code",
   "execution_count": 40,
   "id": "cf46f657",
   "metadata": {},
   "outputs": [
    {
     "name": "stdout",
     "output_type": "stream",
     "text": [
      "###### 12 Month Data, Machine Learning Model Performance #####\n"
     ]
    },
    {
     "data": {
      "text/html": [
       "<div>\n",
       "<style scoped>\n",
       "    .dataframe tbody tr th:only-of-type {\n",
       "        vertical-align: middle;\n",
       "    }\n",
       "\n",
       "    .dataframe tbody tr th {\n",
       "        vertical-align: top;\n",
       "    }\n",
       "\n",
       "    .dataframe thead th {\n",
       "        text-align: right;\n",
       "    }\n",
       "</style>\n",
       "<table border=\"1\" class=\"dataframe\">\n",
       "  <thead>\n",
       "    <tr style=\"text-align: right;\">\n",
       "      <th></th>\n",
       "      <th>Reg Model Type</th>\n",
       "      <th>MSE best params</th>\n",
       "      <th>MSE</th>\n",
       "      <th>r2 best params</th>\n",
       "      <th>r2</th>\n",
       "    </tr>\n",
       "  </thead>\n",
       "  <tbody>\n",
       "    <tr>\n",
       "      <th>0</th>\n",
       "      <td>ElasticNet</td>\n",
       "      <td>{'l1_ratio': 1}</td>\n",
       "      <td>3.016355e+11</td>\n",
       "      <td>{'l1_ratio': 1}</td>\n",
       "      <td>0.085476</td>\n",
       "    </tr>\n",
       "    <tr>\n",
       "      <th>1</th>\n",
       "      <td>KNN</td>\n",
       "      <td>{'n_neighbors': 5}</td>\n",
       "      <td>3.338435e+11</td>\n",
       "      <td>{'n_neighbors': 11}</td>\n",
       "      <td>0.162526</td>\n",
       "    </tr>\n",
       "    <tr>\n",
       "      <th>2</th>\n",
       "      <td>SVM</td>\n",
       "      <td>{'C': 10, 'epsilon': 1}</td>\n",
       "      <td>3.494897e+11</td>\n",
       "      <td>{'C': 10, 'epsilon': 1}</td>\n",
       "      <td>-0.059612</td>\n",
       "    </tr>\n",
       "    <tr>\n",
       "      <th>3</th>\n",
       "      <td>RandomForest</td>\n",
       "      <td>{'max_features': 'sqrt', 'min_samples_leaf': 1...</td>\n",
       "      <td>2.835939e+11</td>\n",
       "      <td>{'max_features': 'sqrt', 'min_samples_leaf': 1...</td>\n",
       "      <td>0.191106</td>\n",
       "    </tr>\n",
       "    <tr>\n",
       "      <th>4</th>\n",
       "      <td>AdaBoost</td>\n",
       "      <td>{'learning_rate': 0.1, 'n_estimators': 50}</td>\n",
       "      <td>3.911161e+11</td>\n",
       "      <td>{'learning_rate': 0.1, 'n_estimators': 50}</td>\n",
       "      <td>-0.205641</td>\n",
       "    </tr>\n",
       "    <tr>\n",
       "      <th>5</th>\n",
       "      <td>GradientBoost</td>\n",
       "      <td>{'learning_rate': 0.1, 'n_estimators': 100}</td>\n",
       "      <td>4.205180e+11</td>\n",
       "      <td>{'learning_rate': 0.1, 'n_estimators': 100}</td>\n",
       "      <td>-0.355871</td>\n",
       "    </tr>\n",
       "    <tr>\n",
       "      <th>6</th>\n",
       "      <td>NeuralNet</td>\n",
       "      <td>{'alpha': 1e-05, 'hidden_layer_sizes': (400,)}</td>\n",
       "      <td>3.493079e+11</td>\n",
       "      <td>{'alpha': 1e-05, 'hidden_layer_sizes': (400,)}</td>\n",
       "      <td>-0.059057</td>\n",
       "    </tr>\n",
       "  </tbody>\n",
       "</table>\n",
       "</div>"
      ],
      "text/plain": [
       "  Reg Model Type                                    MSE best params  \\\n",
       "0     ElasticNet                                    {'l1_ratio': 1}   \n",
       "1            KNN                                 {'n_neighbors': 5}   \n",
       "2            SVM                            {'C': 10, 'epsilon': 1}   \n",
       "3   RandomForest  {'max_features': 'sqrt', 'min_samples_leaf': 1...   \n",
       "4       AdaBoost         {'learning_rate': 0.1, 'n_estimators': 50}   \n",
       "5  GradientBoost        {'learning_rate': 0.1, 'n_estimators': 100}   \n",
       "6      NeuralNet     {'alpha': 1e-05, 'hidden_layer_sizes': (400,)}   \n",
       "\n",
       "            MSE                                     r2 best params        r2  \n",
       "0  3.016355e+11                                    {'l1_ratio': 1}  0.085476  \n",
       "1  3.338435e+11                                {'n_neighbors': 11}  0.162526  \n",
       "2  3.494897e+11                            {'C': 10, 'epsilon': 1} -0.059612  \n",
       "3  2.835939e+11  {'max_features': 'sqrt', 'min_samples_leaf': 1...  0.191106  \n",
       "4  3.911161e+11         {'learning_rate': 0.1, 'n_estimators': 50} -0.205641  \n",
       "5  4.205180e+11        {'learning_rate': 0.1, 'n_estimators': 100} -0.355871  \n",
       "6  3.493079e+11     {'alpha': 1e-05, 'hidden_layer_sizes': (400,)} -0.059057  "
      ]
     },
     "execution_count": 40,
     "metadata": {},
     "output_type": "execute_result"
    }
   ],
   "source": [
    "print('###### 12 Month Data, Machine Learning Model Performance #####')\n",
    "results_df"
   ]
  },
  {
   "cell_type": "code",
   "execution_count": 46,
   "id": "83a21fb9",
   "metadata": {},
   "outputs": [],
   "source": [
    "# best model params = {'max_features': 'sqrt', 'min_samples_leaf': 10, 'n_estimators': 50}\n",
    "best_model = RandomForestRegressor(max_features='sqrt', min_samples_leaf=10, n_estimators=50)"
   ]
  },
  {
   "cell_type": "code",
   "execution_count": 47,
   "id": "c4225646",
   "metadata": {},
   "outputs": [
    {
     "data": {
      "text/html": [
       "<style>#sk-container-id-1 {color: black;background-color: white;}#sk-container-id-1 pre{padding: 0;}#sk-container-id-1 div.sk-toggleable {background-color: white;}#sk-container-id-1 label.sk-toggleable__label {cursor: pointer;display: block;width: 100%;margin-bottom: 0;padding: 0.3em;box-sizing: border-box;text-align: center;}#sk-container-id-1 label.sk-toggleable__label-arrow:before {content: \"▸\";float: left;margin-right: 0.25em;color: #696969;}#sk-container-id-1 label.sk-toggleable__label-arrow:hover:before {color: black;}#sk-container-id-1 div.sk-estimator:hover label.sk-toggleable__label-arrow:before {color: black;}#sk-container-id-1 div.sk-toggleable__content {max-height: 0;max-width: 0;overflow: hidden;text-align: left;background-color: #f0f8ff;}#sk-container-id-1 div.sk-toggleable__content pre {margin: 0.2em;color: black;border-radius: 0.25em;background-color: #f0f8ff;}#sk-container-id-1 input.sk-toggleable__control:checked~div.sk-toggleable__content {max-height: 200px;max-width: 100%;overflow: auto;}#sk-container-id-1 input.sk-toggleable__control:checked~label.sk-toggleable__label-arrow:before {content: \"▾\";}#sk-container-id-1 div.sk-estimator input.sk-toggleable__control:checked~label.sk-toggleable__label {background-color: #d4ebff;}#sk-container-id-1 div.sk-label input.sk-toggleable__control:checked~label.sk-toggleable__label {background-color: #d4ebff;}#sk-container-id-1 input.sk-hidden--visually {border: 0;clip: rect(1px 1px 1px 1px);clip: rect(1px, 1px, 1px, 1px);height: 1px;margin: -1px;overflow: hidden;padding: 0;position: absolute;width: 1px;}#sk-container-id-1 div.sk-estimator {font-family: monospace;background-color: #f0f8ff;border: 1px dotted black;border-radius: 0.25em;box-sizing: border-box;margin-bottom: 0.5em;}#sk-container-id-1 div.sk-estimator:hover {background-color: #d4ebff;}#sk-container-id-1 div.sk-parallel-item::after {content: \"\";width: 100%;border-bottom: 1px solid gray;flex-grow: 1;}#sk-container-id-1 div.sk-label:hover label.sk-toggleable__label {background-color: #d4ebff;}#sk-container-id-1 div.sk-serial::before {content: \"\";position: absolute;border-left: 1px solid gray;box-sizing: border-box;top: 0;bottom: 0;left: 50%;z-index: 0;}#sk-container-id-1 div.sk-serial {display: flex;flex-direction: column;align-items: center;background-color: white;padding-right: 0.2em;padding-left: 0.2em;position: relative;}#sk-container-id-1 div.sk-item {position: relative;z-index: 1;}#sk-container-id-1 div.sk-parallel {display: flex;align-items: stretch;justify-content: center;background-color: white;position: relative;}#sk-container-id-1 div.sk-item::before, #sk-container-id-1 div.sk-parallel-item::before {content: \"\";position: absolute;border-left: 1px solid gray;box-sizing: border-box;top: 0;bottom: 0;left: 50%;z-index: -1;}#sk-container-id-1 div.sk-parallel-item {display: flex;flex-direction: column;z-index: 1;position: relative;background-color: white;}#sk-container-id-1 div.sk-parallel-item:first-child::after {align-self: flex-end;width: 50%;}#sk-container-id-1 div.sk-parallel-item:last-child::after {align-self: flex-start;width: 50%;}#sk-container-id-1 div.sk-parallel-item:only-child::after {width: 0;}#sk-container-id-1 div.sk-dashed-wrapped {border: 1px dashed gray;margin: 0 0.4em 0.5em 0.4em;box-sizing: border-box;padding-bottom: 0.4em;background-color: white;}#sk-container-id-1 div.sk-label label {font-family: monospace;font-weight: bold;display: inline-block;line-height: 1.2em;}#sk-container-id-1 div.sk-label-container {text-align: center;}#sk-container-id-1 div.sk-container {/* jupyter's `normalize.less` sets `[hidden] { display: none; }` but bootstrap.min.css set `[hidden] { display: none !important; }` so we also need the `!important` here to be able to override the default hidden behavior on the sphinx rendered scikit-learn.org. See: https://github.com/scikit-learn/scikit-learn/issues/21755 */display: inline-block !important;position: relative;}#sk-container-id-1 div.sk-text-repr-fallback {display: none;}</style><div id=\"sk-container-id-1\" class=\"sk-top-container\"><div class=\"sk-text-repr-fallback\"><pre>RandomForestRegressor(max_features=&#x27;sqrt&#x27;, min_samples_leaf=10, n_estimators=50)</pre><b>In a Jupyter environment, please rerun this cell to show the HTML representation or trust the notebook. <br />On GitHub, the HTML representation is unable to render, please try loading this page with nbviewer.org.</b></div><div class=\"sk-container\" hidden><div class=\"sk-item\"><div class=\"sk-estimator sk-toggleable\"><input class=\"sk-toggleable__control sk-hidden--visually\" id=\"sk-estimator-id-1\" type=\"checkbox\" checked><label for=\"sk-estimator-id-1\" class=\"sk-toggleable__label sk-toggleable__label-arrow\">RandomForestRegressor</label><div class=\"sk-toggleable__content\"><pre>RandomForestRegressor(max_features=&#x27;sqrt&#x27;, min_samples_leaf=10, n_estimators=50)</pre></div></div></div></div></div>"
      ],
      "text/plain": [
       "RandomForestRegressor(max_features='sqrt', min_samples_leaf=10, n_estimators=50)"
      ]
     },
     "execution_count": 47,
     "metadata": {},
     "output_type": "execute_result"
    }
   ],
   "source": [
    "best_model.fit(X_train, y_train)"
   ]
  },
  {
   "cell_type": "code",
   "execution_count": 48,
   "id": "4fe32248",
   "metadata": {},
   "outputs": [
    {
     "data": {
      "text/plain": [
       "0.2052266154033"
      ]
     },
     "execution_count": 48,
     "metadata": {},
     "output_type": "execute_result"
    }
   ],
   "source": [
    "best_model.score(X_test, y_test)"
   ]
  },
  {
   "cell_type": "code",
   "execution_count": 51,
   "id": "fee6b8ca",
   "metadata": {},
   "outputs": [
    {
     "name": "stderr",
     "output_type": "stream",
     "text": [
      "C:\\Users\\bradl\\anaconda3\\envs\\study\\lib\\site-packages\\sklearn\\base.py:450: UserWarning: X does not have valid feature names, but RandomForestRegressor was fitted with feature names\n",
      "  warnings.warn(\n"
     ]
    },
    {
     "data": {
      "text/plain": [
       "array([1446973.2046336])"
      ]
     },
     "execution_count": 51,
     "metadata": {},
     "output_type": "execute_result"
    }
   ],
   "source": [
    "test_point = np.array([0.5, 0.5, 0.5, 0.5, 0.5, 0.5]).reshape(1,-1)\n",
    "best_model.predict(test_point)"
   ]
  },
  {
   "cell_type": "code",
   "execution_count": 53,
   "id": "0d4969a9",
   "metadata": {},
   "outputs": [],
   "source": [
    "import joblib"
   ]
  },
  {
   "cell_type": "code",
   "execution_count": 54,
   "id": "ee776520",
   "metadata": {},
   "outputs": [
    {
     "data": {
      "text/plain": [
       "['all_platforms_best_model']"
      ]
     },
     "execution_count": 54,
     "metadata": {},
     "output_type": "execute_result"
    }
   ],
   "source": [
    "joblib.dump(best_model, 'all_platforms_best_model.joblib')"
   ]
  }
 ],
 "metadata": {
  "kernelspec": {
   "display_name": "Python 3 (ipykernel)",
   "language": "python",
   "name": "python3"
  },
  "language_info": {
   "codemirror_mode": {
    "name": "ipython",
    "version": 3
   },
   "file_extension": ".py",
   "mimetype": "text/x-python",
   "name": "python",
   "nbconvert_exporter": "python",
   "pygments_lexer": "ipython3",
   "version": "3.10.11"
  }
 },
 "nbformat": 4,
 "nbformat_minor": 5
}
