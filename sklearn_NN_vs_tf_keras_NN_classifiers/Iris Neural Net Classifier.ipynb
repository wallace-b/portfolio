{
 "cells": [
  {
   "cell_type": "code",
   "execution_count": 1,
   "id": "37c35d6f",
   "metadata": {},
   "outputs": [],
   "source": [
    "import numpy as np\n",
    "import pandas as pd \n",
    "\n",
    "import tensorflow as tf\n",
    "from tensorflow.keras import layers\n",
    "from tensorflow.keras import datasets, layers, models\n",
    "from tensorflow.keras.utils import to_categorical, plot_model\n",
    "\n",
    "import matplotlib.pyplot as plt\n",
    "\n",
    "from sklearn.neural_network import MLPClassifier\n",
    "\n",
    "from sklearn.metrics import accuracy_score\n",
    "\n",
    "from sklearn.preprocessing import LabelEncoder\n",
    "from sklearn.model_selection import train_test_split, GridSearchCV\n",
    "\n",
    "from multiprocessing import cpu_count"
   ]
  },
  {
   "cell_type": "code",
   "execution_count": 2,
   "id": "0f12cd37",
   "metadata": {},
   "outputs": [],
   "source": [
    "iris_data = pd.read_csv(\"data\\iris.data\", header=None)"
   ]
  },
  {
   "cell_type": "code",
   "execution_count": 3,
   "id": "27db4831",
   "metadata": {},
   "outputs": [],
   "source": [
    "iris_data.columns=['sepal length', 'sepal width', 'petal length', 'petal width', 'iris species']"
   ]
  },
  {
   "cell_type": "code",
   "execution_count": 4,
   "id": "d7be8b0b",
   "metadata": {},
   "outputs": [],
   "source": [
    "#iris_data"
   ]
  },
  {
   "cell_type": "code",
   "execution_count": 5,
   "id": "f8e0605a",
   "metadata": {},
   "outputs": [],
   "source": [
    "# 80% train, 20% test data\n",
    "#total_length=len(iris_data)\n",
    "#train_length=int(0.8*total_length)\n",
    "#test_length=int(0.2*total_length)\n",
    "\n",
    "#iris_data_shuffled = iris_data.sample(frac=1)\n",
    "\n",
    "#train_iris_data = iris_data_shuffled[:train_length]\n",
    "#test_iris_data = iris_data_shuffled[train_length:]"
   ]
  },
  {
   "cell_type": "code",
   "execution_count": 6,
   "id": "1d1c1355",
   "metadata": {},
   "outputs": [],
   "source": [
    "#print(len(train_iris_data))\n",
    "#print(len(test_iris_data))"
   ]
  },
  {
   "cell_type": "code",
   "execution_count": 7,
   "id": "db90f936",
   "metadata": {},
   "outputs": [],
   "source": [
    "X = iris_data.iloc[:,:4].values\n",
    "y = iris_data.iloc[:,4:].values"
   ]
  },
  {
   "cell_type": "code",
   "execution_count": 8,
   "id": "f36c4ceb",
   "metadata": {},
   "outputs": [
    {
     "name": "stderr",
     "output_type": "stream",
     "text": [
      "C:\\Users\\bradl\\anaconda3\\envs\\study\\lib\\site-packages\\sklearn\\preprocessing\\_label.py:115: DataConversionWarning: A column-vector y was passed when a 1d array was expected. Please change the shape of y to (n_samples, ), for example using ravel().\n",
      "  y = column_or_1d(y, warn=True)\n"
     ]
    }
   ],
   "source": [
    "encoder =  LabelEncoder()\n",
    "y1 = encoder.fit_transform(y)\n",
    "Y = pd.get_dummies(y1).values"
   ]
  },
  {
   "cell_type": "code",
   "execution_count": 9,
   "id": "b0664000",
   "metadata": {},
   "outputs": [],
   "source": [
    "#Y"
   ]
  },
  {
   "cell_type": "code",
   "execution_count": 10,
   "id": "c2c0253a",
   "metadata": {},
   "outputs": [],
   "source": [
    "# 80% train / 20% test\n",
    "X_train, X_test, y_train, y_test = train_test_split(X, Y, test_size=0.2, random_state=0)"
   ]
  },
  {
   "cell_type": "code",
   "execution_count": 11,
   "id": "e0d406ad",
   "metadata": {},
   "outputs": [],
   "source": [
    "# sklearn\n",
    "clf = MLPClassifier(solver='lbfgs', alpha=1e-5, hidden_layer_sizes=(15,), random_state=1)"
   ]
  },
  {
   "cell_type": "code",
   "execution_count": 12,
   "id": "b664487f",
   "metadata": {},
   "outputs": [
    {
     "name": "stderr",
     "output_type": "stream",
     "text": [
      "C:\\Users\\bradl\\anaconda3\\envs\\study\\lib\\site-packages\\sklearn\\neural_network\\_multilayer_perceptron.py:559: ConvergenceWarning: lbfgs failed to converge (status=1):\n",
      "STOP: TOTAL NO. of ITERATIONS REACHED LIMIT.\n",
      "\n",
      "Increase the number of iterations (max_iter) or scale the data as shown in:\n",
      "    https://scikit-learn.org/stable/modules/preprocessing.html\n",
      "  self.n_iter_ = _check_optimize_result(\"lbfgs\", opt_res, self.max_iter)\n"
     ]
    },
    {
     "data": {
      "text/html": [
       "<style>#sk-container-id-1 {color: black;background-color: white;}#sk-container-id-1 pre{padding: 0;}#sk-container-id-1 div.sk-toggleable {background-color: white;}#sk-container-id-1 label.sk-toggleable__label {cursor: pointer;display: block;width: 100%;margin-bottom: 0;padding: 0.3em;box-sizing: border-box;text-align: center;}#sk-container-id-1 label.sk-toggleable__label-arrow:before {content: \"▸\";float: left;margin-right: 0.25em;color: #696969;}#sk-container-id-1 label.sk-toggleable__label-arrow:hover:before {color: black;}#sk-container-id-1 div.sk-estimator:hover label.sk-toggleable__label-arrow:before {color: black;}#sk-container-id-1 div.sk-toggleable__content {max-height: 0;max-width: 0;overflow: hidden;text-align: left;background-color: #f0f8ff;}#sk-container-id-1 div.sk-toggleable__content pre {margin: 0.2em;color: black;border-radius: 0.25em;background-color: #f0f8ff;}#sk-container-id-1 input.sk-toggleable__control:checked~div.sk-toggleable__content {max-height: 200px;max-width: 100%;overflow: auto;}#sk-container-id-1 input.sk-toggleable__control:checked~label.sk-toggleable__label-arrow:before {content: \"▾\";}#sk-container-id-1 div.sk-estimator input.sk-toggleable__control:checked~label.sk-toggleable__label {background-color: #d4ebff;}#sk-container-id-1 div.sk-label input.sk-toggleable__control:checked~label.sk-toggleable__label {background-color: #d4ebff;}#sk-container-id-1 input.sk-hidden--visually {border: 0;clip: rect(1px 1px 1px 1px);clip: rect(1px, 1px, 1px, 1px);height: 1px;margin: -1px;overflow: hidden;padding: 0;position: absolute;width: 1px;}#sk-container-id-1 div.sk-estimator {font-family: monospace;background-color: #f0f8ff;border: 1px dotted black;border-radius: 0.25em;box-sizing: border-box;margin-bottom: 0.5em;}#sk-container-id-1 div.sk-estimator:hover {background-color: #d4ebff;}#sk-container-id-1 div.sk-parallel-item::after {content: \"\";width: 100%;border-bottom: 1px solid gray;flex-grow: 1;}#sk-container-id-1 div.sk-label:hover label.sk-toggleable__label {background-color: #d4ebff;}#sk-container-id-1 div.sk-serial::before {content: \"\";position: absolute;border-left: 1px solid gray;box-sizing: border-box;top: 0;bottom: 0;left: 50%;z-index: 0;}#sk-container-id-1 div.sk-serial {display: flex;flex-direction: column;align-items: center;background-color: white;padding-right: 0.2em;padding-left: 0.2em;position: relative;}#sk-container-id-1 div.sk-item {position: relative;z-index: 1;}#sk-container-id-1 div.sk-parallel {display: flex;align-items: stretch;justify-content: center;background-color: white;position: relative;}#sk-container-id-1 div.sk-item::before, #sk-container-id-1 div.sk-parallel-item::before {content: \"\";position: absolute;border-left: 1px solid gray;box-sizing: border-box;top: 0;bottom: 0;left: 50%;z-index: -1;}#sk-container-id-1 div.sk-parallel-item {display: flex;flex-direction: column;z-index: 1;position: relative;background-color: white;}#sk-container-id-1 div.sk-parallel-item:first-child::after {align-self: flex-end;width: 50%;}#sk-container-id-1 div.sk-parallel-item:last-child::after {align-self: flex-start;width: 50%;}#sk-container-id-1 div.sk-parallel-item:only-child::after {width: 0;}#sk-container-id-1 div.sk-dashed-wrapped {border: 1px dashed gray;margin: 0 0.4em 0.5em 0.4em;box-sizing: border-box;padding-bottom: 0.4em;background-color: white;}#sk-container-id-1 div.sk-label label {font-family: monospace;font-weight: bold;display: inline-block;line-height: 1.2em;}#sk-container-id-1 div.sk-label-container {text-align: center;}#sk-container-id-1 div.sk-container {/* jupyter's `normalize.less` sets `[hidden] { display: none; }` but bootstrap.min.css set `[hidden] { display: none !important; }` so we also need the `!important` here to be able to override the default hidden behavior on the sphinx rendered scikit-learn.org. See: https://github.com/scikit-learn/scikit-learn/issues/21755 */display: inline-block !important;position: relative;}#sk-container-id-1 div.sk-text-repr-fallback {display: none;}</style><div id=\"sk-container-id-1\" class=\"sk-top-container\"><div class=\"sk-text-repr-fallback\"><pre>MLPClassifier(alpha=1e-05, hidden_layer_sizes=(15,), random_state=1,\n",
       "              solver=&#x27;lbfgs&#x27;)</pre><b>In a Jupyter environment, please rerun this cell to show the HTML representation or trust the notebook. <br />On GitHub, the HTML representation is unable to render, please try loading this page with nbviewer.org.</b></div><div class=\"sk-container\" hidden><div class=\"sk-item\"><div class=\"sk-estimator sk-toggleable\"><input class=\"sk-toggleable__control sk-hidden--visually\" id=\"sk-estimator-id-1\" type=\"checkbox\" checked><label for=\"sk-estimator-id-1\" class=\"sk-toggleable__label sk-toggleable__label-arrow\">MLPClassifier</label><div class=\"sk-toggleable__content\"><pre>MLPClassifier(alpha=1e-05, hidden_layer_sizes=(15,), random_state=1,\n",
       "              solver=&#x27;lbfgs&#x27;)</pre></div></div></div></div></div>"
      ],
      "text/plain": [
       "MLPClassifier(alpha=1e-05, hidden_layer_sizes=(15,), random_state=1,\n",
       "              solver='lbfgs')"
      ]
     },
     "execution_count": 12,
     "metadata": {},
     "output_type": "execute_result"
    }
   ],
   "source": [
    "clf.fit(X_train, y_train)"
   ]
  },
  {
   "cell_type": "code",
   "execution_count": 13,
   "id": "83dd55b3",
   "metadata": {},
   "outputs": [],
   "source": [
    "y_pred0 = clf.predict(X_test)"
   ]
  },
  {
   "cell_type": "code",
   "execution_count": 14,
   "id": "fa424e75",
   "metadata": {},
   "outputs": [
    {
     "data": {
      "text/plain": [
       "1.0"
      ]
     },
     "execution_count": 14,
     "metadata": {},
     "output_type": "execute_result"
    }
   ],
   "source": [
    "accuracy_score(y_test, y_pred0)"
   ]
  },
  {
   "cell_type": "code",
   "execution_count": 15,
   "id": "e5562cdc",
   "metadata": {},
   "outputs": [
    {
     "name": "stdout",
     "output_type": "stream",
     "text": [
      "Actual   : [2 1 0 2 0 2 0 1 1 1 2 1 1 1 1 0 1 1 0 0 2 1 0 0 2 0 0 1 1 0]\n",
      "Predicted: [2 1 0 2 0 2 0 1 1 1 2 1 1 1 1 0 1 1 0 0 2 1 0 0 2 0 0 1 1 0]\n"
     ]
    }
   ],
   "source": [
    "actual = np.argmax(y_test,axis=1)\n",
    "predicted = np.argmax(y_pred0,axis=1)\n",
    "print(f\"Actual   : {actual}\")\n",
    "print(f\"Predicted: {predicted}\")"
   ]
  },
  {
   "cell_type": "code",
   "execution_count": 16,
   "id": "ea248629",
   "metadata": {},
   "outputs": [],
   "source": [
    "# sklearn CV\n",
    "param_grid = {\n",
    "    'alpha': [1e-05, 0.001, 0.1, 0.35, 0.5, 0.8, 1],\n",
    "    'hidden_layer_sizes': [(5,), (10,), (15,), (20,), (4, 3), (5, 3), (5, 4)],\n",
    "}\n",
    "\n",
    "cvnn_model = GridSearchCV(estimator=MLPClassifier(solver='lbfgs'),\n",
    "                        param_grid=param_grid,\n",
    "                        scoring='accuracy', cv=5,\n",
    "                        n_jobs=cpu_count(), refit=True)"
   ]
  },
  {
   "cell_type": "code",
   "execution_count": 17,
   "id": "0d0f7d83",
   "metadata": {},
   "outputs": [
    {
     "name": "stderr",
     "output_type": "stream",
     "text": [
      "C:\\Users\\bradl\\anaconda3\\envs\\study\\lib\\site-packages\\sklearn\\neural_network\\_multilayer_perceptron.py:559: ConvergenceWarning: lbfgs failed to converge (status=1):\n",
      "STOP: TOTAL NO. of ITERATIONS REACHED LIMIT.\n",
      "\n",
      "Increase the number of iterations (max_iter) or scale the data as shown in:\n",
      "    https://scikit-learn.org/stable/modules/preprocessing.html\n",
      "  self.n_iter_ = _check_optimize_result(\"lbfgs\", opt_res, self.max_iter)\n"
     ]
    },
    {
     "data": {
      "text/html": [
       "<style>#sk-container-id-2 {color: black;background-color: white;}#sk-container-id-2 pre{padding: 0;}#sk-container-id-2 div.sk-toggleable {background-color: white;}#sk-container-id-2 label.sk-toggleable__label {cursor: pointer;display: block;width: 100%;margin-bottom: 0;padding: 0.3em;box-sizing: border-box;text-align: center;}#sk-container-id-2 label.sk-toggleable__label-arrow:before {content: \"▸\";float: left;margin-right: 0.25em;color: #696969;}#sk-container-id-2 label.sk-toggleable__label-arrow:hover:before {color: black;}#sk-container-id-2 div.sk-estimator:hover label.sk-toggleable__label-arrow:before {color: black;}#sk-container-id-2 div.sk-toggleable__content {max-height: 0;max-width: 0;overflow: hidden;text-align: left;background-color: #f0f8ff;}#sk-container-id-2 div.sk-toggleable__content pre {margin: 0.2em;color: black;border-radius: 0.25em;background-color: #f0f8ff;}#sk-container-id-2 input.sk-toggleable__control:checked~div.sk-toggleable__content {max-height: 200px;max-width: 100%;overflow: auto;}#sk-container-id-2 input.sk-toggleable__control:checked~label.sk-toggleable__label-arrow:before {content: \"▾\";}#sk-container-id-2 div.sk-estimator input.sk-toggleable__control:checked~label.sk-toggleable__label {background-color: #d4ebff;}#sk-container-id-2 div.sk-label input.sk-toggleable__control:checked~label.sk-toggleable__label {background-color: #d4ebff;}#sk-container-id-2 input.sk-hidden--visually {border: 0;clip: rect(1px 1px 1px 1px);clip: rect(1px, 1px, 1px, 1px);height: 1px;margin: -1px;overflow: hidden;padding: 0;position: absolute;width: 1px;}#sk-container-id-2 div.sk-estimator {font-family: monospace;background-color: #f0f8ff;border: 1px dotted black;border-radius: 0.25em;box-sizing: border-box;margin-bottom: 0.5em;}#sk-container-id-2 div.sk-estimator:hover {background-color: #d4ebff;}#sk-container-id-2 div.sk-parallel-item::after {content: \"\";width: 100%;border-bottom: 1px solid gray;flex-grow: 1;}#sk-container-id-2 div.sk-label:hover label.sk-toggleable__label {background-color: #d4ebff;}#sk-container-id-2 div.sk-serial::before {content: \"\";position: absolute;border-left: 1px solid gray;box-sizing: border-box;top: 0;bottom: 0;left: 50%;z-index: 0;}#sk-container-id-2 div.sk-serial {display: flex;flex-direction: column;align-items: center;background-color: white;padding-right: 0.2em;padding-left: 0.2em;position: relative;}#sk-container-id-2 div.sk-item {position: relative;z-index: 1;}#sk-container-id-2 div.sk-parallel {display: flex;align-items: stretch;justify-content: center;background-color: white;position: relative;}#sk-container-id-2 div.sk-item::before, #sk-container-id-2 div.sk-parallel-item::before {content: \"\";position: absolute;border-left: 1px solid gray;box-sizing: border-box;top: 0;bottom: 0;left: 50%;z-index: -1;}#sk-container-id-2 div.sk-parallel-item {display: flex;flex-direction: column;z-index: 1;position: relative;background-color: white;}#sk-container-id-2 div.sk-parallel-item:first-child::after {align-self: flex-end;width: 50%;}#sk-container-id-2 div.sk-parallel-item:last-child::after {align-self: flex-start;width: 50%;}#sk-container-id-2 div.sk-parallel-item:only-child::after {width: 0;}#sk-container-id-2 div.sk-dashed-wrapped {border: 1px dashed gray;margin: 0 0.4em 0.5em 0.4em;box-sizing: border-box;padding-bottom: 0.4em;background-color: white;}#sk-container-id-2 div.sk-label label {font-family: monospace;font-weight: bold;display: inline-block;line-height: 1.2em;}#sk-container-id-2 div.sk-label-container {text-align: center;}#sk-container-id-2 div.sk-container {/* jupyter's `normalize.less` sets `[hidden] { display: none; }` but bootstrap.min.css set `[hidden] { display: none !important; }` so we also need the `!important` here to be able to override the default hidden behavior on the sphinx rendered scikit-learn.org. See: https://github.com/scikit-learn/scikit-learn/issues/21755 */display: inline-block !important;position: relative;}#sk-container-id-2 div.sk-text-repr-fallback {display: none;}</style><div id=\"sk-container-id-2\" class=\"sk-top-container\"><div class=\"sk-text-repr-fallback\"><pre>GridSearchCV(cv=5, estimator=MLPClassifier(solver=&#x27;lbfgs&#x27;), n_jobs=12,\n",
       "             param_grid={&#x27;alpha&#x27;: [1e-05, 0.001, 0.1, 0.35, 0.5, 0.8, 1],\n",
       "                         &#x27;hidden_layer_sizes&#x27;: [(5,), (10,), (15,), (20,),\n",
       "                                                (4, 3), (5, 3), (5, 4)]},\n",
       "             scoring=&#x27;accuracy&#x27;)</pre><b>In a Jupyter environment, please rerun this cell to show the HTML representation or trust the notebook. <br />On GitHub, the HTML representation is unable to render, please try loading this page with nbviewer.org.</b></div><div class=\"sk-container\" hidden><div class=\"sk-item sk-dashed-wrapped\"><div class=\"sk-label-container\"><div class=\"sk-label sk-toggleable\"><input class=\"sk-toggleable__control sk-hidden--visually\" id=\"sk-estimator-id-2\" type=\"checkbox\" ><label for=\"sk-estimator-id-2\" class=\"sk-toggleable__label sk-toggleable__label-arrow\">GridSearchCV</label><div class=\"sk-toggleable__content\"><pre>GridSearchCV(cv=5, estimator=MLPClassifier(solver=&#x27;lbfgs&#x27;), n_jobs=12,\n",
       "             param_grid={&#x27;alpha&#x27;: [1e-05, 0.001, 0.1, 0.35, 0.5, 0.8, 1],\n",
       "                         &#x27;hidden_layer_sizes&#x27;: [(5,), (10,), (15,), (20,),\n",
       "                                                (4, 3), (5, 3), (5, 4)]},\n",
       "             scoring=&#x27;accuracy&#x27;)</pre></div></div></div><div class=\"sk-parallel\"><div class=\"sk-parallel-item\"><div class=\"sk-item\"><div class=\"sk-label-container\"><div class=\"sk-label sk-toggleable\"><input class=\"sk-toggleable__control sk-hidden--visually\" id=\"sk-estimator-id-3\" type=\"checkbox\" ><label for=\"sk-estimator-id-3\" class=\"sk-toggleable__label sk-toggleable__label-arrow\">estimator: MLPClassifier</label><div class=\"sk-toggleable__content\"><pre>MLPClassifier(solver=&#x27;lbfgs&#x27;)</pre></div></div></div><div class=\"sk-serial\"><div class=\"sk-item\"><div class=\"sk-estimator sk-toggleable\"><input class=\"sk-toggleable__control sk-hidden--visually\" id=\"sk-estimator-id-4\" type=\"checkbox\" ><label for=\"sk-estimator-id-4\" class=\"sk-toggleable__label sk-toggleable__label-arrow\">MLPClassifier</label><div class=\"sk-toggleable__content\"><pre>MLPClassifier(solver=&#x27;lbfgs&#x27;)</pre></div></div></div></div></div></div></div></div></div></div>"
      ],
      "text/plain": [
       "GridSearchCV(cv=5, estimator=MLPClassifier(solver='lbfgs'), n_jobs=12,\n",
       "             param_grid={'alpha': [1e-05, 0.001, 0.1, 0.35, 0.5, 0.8, 1],\n",
       "                         'hidden_layer_sizes': [(5,), (10,), (15,), (20,),\n",
       "                                                (4, 3), (5, 3), (5, 4)]},\n",
       "             scoring='accuracy')"
      ]
     },
     "execution_count": 17,
     "metadata": {},
     "output_type": "execute_result"
    }
   ],
   "source": [
    "cvnn_model.fit(X_train, y_train)"
   ]
  },
  {
   "cell_type": "code",
   "execution_count": 18,
   "id": "7c8438eb",
   "metadata": {},
   "outputs": [
    {
     "name": "stdout",
     "output_type": "stream",
     "text": [
      "{'alpha': 0.1, 'hidden_layer_sizes': (5, 4)}\n"
     ]
    }
   ],
   "source": [
    "print(cvnn_model.best_params_)"
   ]
  },
  {
   "cell_type": "code",
   "execution_count": 19,
   "id": "a4fadc05",
   "metadata": {},
   "outputs": [
    {
     "data": {
      "text/plain": [
       "1.0"
      ]
     },
     "execution_count": 19,
     "metadata": {},
     "output_type": "execute_result"
    }
   ],
   "source": [
    "cvnn_model.score(X_test, y_test)"
   ]
  },
  {
   "cell_type": "code",
   "execution_count": 20,
   "id": "90467d32",
   "metadata": {},
   "outputs": [
    {
     "data": {
      "text/plain": [
       "<keras.engine.sequential.Sequential at 0x175bfc06350>"
      ]
     },
     "execution_count": 20,
     "metadata": {},
     "output_type": "execute_result"
    }
   ],
   "source": [
    "# Tensorflow\n",
    "model = tf.keras.Sequential([\n",
    "    tf.keras.layers.Dense(40, activation='relu'), # 40 node, hidden layer 1\n",
    "    #tf.keras.layers.Dense(20, activation='relu'), # 20 node, hidden layer 2\n",
    "    tf.keras.layers.Dense(3, activation='softmax') # softmax for output, 3 classes -> 3 nodes\n",
    "  ])\n",
    "model"
   ]
  },
  {
   "cell_type": "code",
   "execution_count": 21,
   "id": "155edc48",
   "metadata": {},
   "outputs": [],
   "source": [
    "model.compile(optimizer='rmsprop',\n",
    "              loss='categorical_crossentropy',\n",
    "              metrics=['accuracy'])"
   ]
  },
  {
   "cell_type": "code",
   "execution_count": 22,
   "id": "6c72427f",
   "metadata": {},
   "outputs": [
    {
     "name": "stdout",
     "output_type": "stream",
     "text": [
      "Epoch 1/100\n",
      "3/3 [==============================] - 1s 3ms/step - loss: 1.5217 - accuracy: 0.1500\n",
      "Epoch 2/100\n",
      "3/3 [==============================] - 0s 4ms/step - loss: 1.3584 - accuracy: 0.5917\n",
      "Epoch 3/100\n",
      "3/3 [==============================] - 0s 3ms/step - loss: 1.2495 - accuracy: 0.5917\n",
      "Epoch 4/100\n",
      "3/3 [==============================] - 0s 3ms/step - loss: 1.1591 - accuracy: 0.6667\n",
      "Epoch 5/100\n",
      "3/3 [==============================] - 0s 3ms/step - loss: 1.0888 - accuracy: 0.6917\n",
      "Epoch 6/100\n",
      "3/3 [==============================] - 0s 4ms/step - loss: 1.0288 - accuracy: 0.6917\n",
      "Epoch 7/100\n",
      "3/3 [==============================] - 0s 3ms/step - loss: 0.9813 - accuracy: 0.6917\n",
      "Epoch 8/100\n",
      "3/3 [==============================] - 0s 3ms/step - loss: 0.9392 - accuracy: 0.6917\n",
      "Epoch 9/100\n",
      "3/3 [==============================] - 0s 4ms/step - loss: 0.9069 - accuracy: 0.6917\n",
      "Epoch 10/100\n",
      "3/3 [==============================] - 0s 4ms/step - loss: 0.8755 - accuracy: 0.6917\n",
      "Epoch 11/100\n",
      "3/3 [==============================] - 0s 4ms/step - loss: 0.8496 - accuracy: 0.6917\n",
      "Epoch 12/100\n",
      "3/3 [==============================] - 0s 3ms/step - loss: 0.8220 - accuracy: 0.6917\n",
      "Epoch 13/100\n",
      "3/3 [==============================] - 0s 3ms/step - loss: 0.7984 - accuracy: 0.6917\n",
      "Epoch 14/100\n",
      "3/3 [==============================] - 0s 4ms/step - loss: 0.7772 - accuracy: 0.6917\n",
      "Epoch 15/100\n",
      "3/3 [==============================] - 0s 4ms/step - loss: 0.7554 - accuracy: 0.6917\n",
      "Epoch 16/100\n",
      "3/3 [==============================] - 0s 4ms/step - loss: 0.7361 - accuracy: 0.6917\n",
      "Epoch 17/100\n",
      "3/3 [==============================] - 0s 3ms/step - loss: 0.7174 - accuracy: 0.6917\n",
      "Epoch 18/100\n",
      "3/3 [==============================] - 0s 3ms/step - loss: 0.7040 - accuracy: 0.6917\n",
      "Epoch 19/100\n",
      "3/3 [==============================] - 0s 4ms/step - loss: 0.6850 - accuracy: 0.6917\n",
      "Epoch 20/100\n",
      "3/3 [==============================] - 0s 4ms/step - loss: 0.6703 - accuracy: 0.6917\n",
      "Epoch 21/100\n",
      "3/3 [==============================] - 0s 3ms/step - loss: 0.6552 - accuracy: 0.6917\n",
      "Epoch 22/100\n",
      "3/3 [==============================] - 0s 4ms/step - loss: 0.6466 - accuracy: 0.6917\n",
      "Epoch 23/100\n",
      "3/3 [==============================] - 0s 3ms/step - loss: 0.6292 - accuracy: 0.6917\n",
      "Epoch 24/100\n",
      "3/3 [==============================] - 0s 3ms/step - loss: 0.6179 - accuracy: 0.6917\n",
      "Epoch 25/100\n",
      "3/3 [==============================] - 0s 3ms/step - loss: 0.6064 - accuracy: 0.7167\n",
      "Epoch 26/100\n",
      "3/3 [==============================] - 0s 4ms/step - loss: 0.5971 - accuracy: 0.7917\n",
      "Epoch 27/100\n",
      "3/3 [==============================] - 0s 4ms/step - loss: 0.5833 - accuracy: 0.7250\n",
      "Epoch 28/100\n",
      "3/3 [==============================] - 0s 3ms/step - loss: 0.5811 - accuracy: 0.7250\n",
      "Epoch 29/100\n",
      "3/3 [==============================] - 0s 4ms/step - loss: 0.5626 - accuracy: 0.7167\n",
      "Epoch 30/100\n",
      "3/3 [==============================] - 0s 3ms/step - loss: 0.5531 - accuracy: 0.7250\n",
      "Epoch 31/100\n",
      "3/3 [==============================] - 0s 4ms/step - loss: 0.5435 - accuracy: 0.7583\n",
      "Epoch 32/100\n",
      "3/3 [==============================] - 0s 4ms/step - loss: 0.5363 - accuracy: 0.7083\n",
      "Epoch 33/100\n",
      "3/3 [==============================] - 0s 3ms/step - loss: 0.5337 - accuracy: 0.8583\n",
      "Epoch 34/100\n",
      "3/3 [==============================] - 0s 4ms/step - loss: 0.5186 - accuracy: 0.7000\n",
      "Epoch 35/100\n",
      "3/3 [==============================] - 0s 4ms/step - loss: 0.5114 - accuracy: 0.7250\n",
      "Epoch 36/100\n",
      "3/3 [==============================] - 0s 4ms/step - loss: 0.5017 - accuracy: 0.7333\n",
      "Epoch 37/100\n",
      "3/3 [==============================] - 0s 4ms/step - loss: 0.4944 - accuracy: 0.7750\n",
      "Epoch 38/100\n",
      "3/3 [==============================] - 0s 4ms/step - loss: 0.4868 - accuracy: 0.8750\n",
      "Epoch 39/100\n",
      "3/3 [==============================] - 0s 4ms/step - loss: 0.4819 - accuracy: 0.7500\n",
      "Epoch 40/100\n",
      "3/3 [==============================] - 0s 4ms/step - loss: 0.4726 - accuracy: 0.8500\n",
      "Epoch 41/100\n",
      "3/3 [==============================] - 0s 4ms/step - loss: 0.4716 - accuracy: 0.8583\n",
      "Epoch 42/100\n",
      "3/3 [==============================] - 0s 3ms/step - loss: 0.4615 - accuracy: 0.7750\n",
      "Epoch 43/100\n",
      "3/3 [==============================] - 0s 3ms/step - loss: 0.4547 - accuracy: 0.9250\n",
      "Epoch 44/100\n",
      "3/3 [==============================] - 0s 4ms/step - loss: 0.4495 - accuracy: 0.8167\n",
      "Epoch 45/100\n",
      "3/3 [==============================] - 0s 4ms/step - loss: 0.4448 - accuracy: 0.8667\n",
      "Epoch 46/100\n",
      "3/3 [==============================] - 0s 4ms/step - loss: 0.4373 - accuracy: 0.8500\n",
      "Epoch 47/100\n",
      "3/3 [==============================] - 0s 3ms/step - loss: 0.4331 - accuracy: 0.8667\n",
      "Epoch 48/100\n",
      "3/3 [==============================] - 0s 4ms/step - loss: 0.4300 - accuracy: 0.8833\n",
      "Epoch 49/100\n",
      "3/3 [==============================] - 0s 4ms/step - loss: 0.4261 - accuracy: 0.8583\n",
      "Epoch 50/100\n",
      "3/3 [==============================] - 0s 4ms/step - loss: 0.4186 - accuracy: 0.9000\n",
      "Epoch 51/100\n",
      "3/3 [==============================] - 0s 4ms/step - loss: 0.4146 - accuracy: 0.9333\n",
      "Epoch 52/100\n",
      "3/3 [==============================] - 0s 3ms/step - loss: 0.4085 - accuracy: 0.9000\n",
      "Epoch 53/100\n",
      "3/3 [==============================] - 0s 4ms/step - loss: 0.4048 - accuracy: 0.8917\n",
      "Epoch 54/100\n",
      "3/3 [==============================] - 0s 3ms/step - loss: 0.4032 - accuracy: 0.8917\n",
      "Epoch 55/100\n",
      "3/3 [==============================] - 0s 4ms/step - loss: 0.3974 - accuracy: 0.8333\n",
      "Epoch 56/100\n",
      "3/3 [==============================] - 0s 3ms/step - loss: 0.3906 - accuracy: 0.9250\n",
      "Epoch 57/100\n",
      "3/3 [==============================] - 0s 4ms/step - loss: 0.3876 - accuracy: 0.9083\n",
      "Epoch 58/100\n",
      "3/3 [==============================] - 0s 3ms/step - loss: 0.3856 - accuracy: 0.9417\n",
      "Epoch 59/100\n",
      "3/3 [==============================] - 0s 3ms/step - loss: 0.3809 - accuracy: 0.9333\n",
      "Epoch 60/100\n",
      "3/3 [==============================] - 0s 4ms/step - loss: 0.3780 - accuracy: 0.8667\n",
      "Epoch 61/100\n",
      "3/3 [==============================] - 0s 3ms/step - loss: 0.3725 - accuracy: 0.9417\n",
      "Epoch 62/100\n",
      "3/3 [==============================] - 0s 3ms/step - loss: 0.3780 - accuracy: 0.9500\n",
      "Epoch 63/100\n",
      "3/3 [==============================] - 0s 3ms/step - loss: 0.3687 - accuracy: 0.8667\n",
      "Epoch 64/100\n",
      "3/3 [==============================] - 0s 3ms/step - loss: 0.3642 - accuracy: 0.8833\n",
      "Epoch 65/100\n",
      "3/3 [==============================] - 0s 3ms/step - loss: 0.3600 - accuracy: 0.9417\n",
      "Epoch 66/100\n",
      "3/3 [==============================] - 0s 3ms/step - loss: 0.3601 - accuracy: 0.9167\n",
      "Epoch 67/100\n",
      "3/3 [==============================] - 0s 3ms/step - loss: 0.3566 - accuracy: 0.9417\n",
      "Epoch 68/100\n",
      "3/3 [==============================] - 0s 3ms/step - loss: 0.3518 - accuracy: 0.9333\n",
      "Epoch 69/100\n",
      "3/3 [==============================] - 0s 3ms/step - loss: 0.3548 - accuracy: 0.9083\n",
      "Epoch 70/100\n",
      "3/3 [==============================] - 0s 3ms/step - loss: 0.3473 - accuracy: 0.9333\n",
      "Epoch 71/100\n",
      "3/3 [==============================] - 0s 3ms/step - loss: 0.3449 - accuracy: 0.8833\n",
      "Epoch 72/100\n",
      "3/3 [==============================] - 0s 3ms/step - loss: 0.3399 - accuracy: 0.9500\n",
      "Epoch 73/100\n",
      "3/3 [==============================] - 0s 3ms/step - loss: 0.3410 - accuracy: 0.9417\n",
      "Epoch 74/100\n",
      "3/3 [==============================] - 0s 4ms/step - loss: 0.3358 - accuracy: 0.9083\n",
      "Epoch 75/100\n",
      "3/3 [==============================] - 0s 3ms/step - loss: 0.3321 - accuracy: 0.9250\n",
      "Epoch 76/100\n",
      "3/3 [==============================] - 0s 3ms/step - loss: 0.3317 - accuracy: 0.9500\n",
      "Epoch 77/100\n",
      "3/3 [==============================] - 0s 3ms/step - loss: 0.3273 - accuracy: 0.9583\n",
      "Epoch 78/100\n",
      "3/3 [==============================] - 0s 3ms/step - loss: 0.3230 - accuracy: 0.9417\n",
      "Epoch 79/100\n",
      "3/3 [==============================] - 0s 3ms/step - loss: 0.3205 - accuracy: 0.9500\n",
      "Epoch 80/100\n",
      "3/3 [==============================] - 0s 3ms/step - loss: 0.3210 - accuracy: 0.9500\n",
      "Epoch 81/100\n",
      "3/3 [==============================] - 0s 4ms/step - loss: 0.3151 - accuracy: 0.9500\n",
      "Epoch 82/100\n",
      "3/3 [==============================] - 0s 3ms/step - loss: 0.3124 - accuracy: 0.9417\n",
      "Epoch 83/100\n",
      "3/3 [==============================] - 0s 3ms/step - loss: 0.3108 - accuracy: 0.9750\n",
      "Epoch 84/100\n"
     ]
    },
    {
     "name": "stdout",
     "output_type": "stream",
     "text": [
      "3/3 [==============================] - 0s 4ms/step - loss: 0.3046 - accuracy: 0.9500\n",
      "Epoch 85/100\n",
      "3/3 [==============================] - 0s 3ms/step - loss: 0.3016 - accuracy: 0.9500\n",
      "Epoch 86/100\n",
      "3/3 [==============================] - 0s 3ms/step - loss: 0.3012 - accuracy: 0.9417\n",
      "Epoch 87/100\n",
      "3/3 [==============================] - 0s 3ms/step - loss: 0.2970 - accuracy: 0.9417\n",
      "Epoch 88/100\n",
      "3/3 [==============================] - 0s 3ms/step - loss: 0.2934 - accuracy: 0.9583\n",
      "Epoch 89/100\n",
      "3/3 [==============================] - 0s 3ms/step - loss: 0.2912 - accuracy: 0.9500\n",
      "Epoch 90/100\n",
      "3/3 [==============================] - 0s 3ms/step - loss: 0.2871 - accuracy: 0.9500\n",
      "Epoch 91/100\n",
      "3/3 [==============================] - 0s 4ms/step - loss: 0.2845 - accuracy: 0.9500\n",
      "Epoch 92/100\n",
      "3/3 [==============================] - 0s 3ms/step - loss: 0.2813 - accuracy: 0.9500\n",
      "Epoch 93/100\n",
      "3/3 [==============================] - 0s 4ms/step - loss: 0.2880 - accuracy: 0.9750\n",
      "Epoch 94/100\n",
      "3/3 [==============================] - 0s 3ms/step - loss: 0.2753 - accuracy: 0.9583\n",
      "Epoch 95/100\n",
      "3/3 [==============================] - 0s 3ms/step - loss: 0.2752 - accuracy: 0.9417\n",
      "Epoch 96/100\n",
      "3/3 [==============================] - 0s 3ms/step - loss: 0.2718 - accuracy: 0.9583\n",
      "Epoch 97/100\n",
      "3/3 [==============================] - 0s 3ms/step - loss: 0.2704 - accuracy: 0.9667\n",
      "Epoch 98/100\n",
      "3/3 [==============================] - 0s 3ms/step - loss: 0.2705 - accuracy: 0.9500\n",
      "Epoch 99/100\n",
      "3/3 [==============================] - 0s 3ms/step - loss: 0.2665 - accuracy: 0.9750\n",
      "Epoch 100/100\n",
      "3/3 [==============================] - 0s 3ms/step - loss: 0.2624 - accuracy: 0.9500\n"
     ]
    },
    {
     "data": {
      "text/plain": [
       "<keras.callbacks.History at 0x175c02f7880>"
      ]
     },
     "execution_count": 22,
     "metadata": {},
     "output_type": "execute_result"
    }
   ],
   "source": [
    "model.fit(X_train, y_train, batch_size=50, epochs=100)"
   ]
  },
  {
   "cell_type": "code",
   "execution_count": 23,
   "id": "5793beca",
   "metadata": {},
   "outputs": [
    {
     "name": "stdout",
     "output_type": "stream",
     "text": [
      "Test loss: 0.25398534536361694\n",
      "Test accuracy: 1.0\n"
     ]
    }
   ],
   "source": [
    "loss, accuracy = model.evaluate(X_test, y_test, verbose=0)\n",
    "print('Test loss:', loss)\n",
    "print('Test accuracy:', accuracy)"
   ]
  },
  {
   "cell_type": "code",
   "execution_count": 24,
   "id": "4e6b7a15",
   "metadata": {},
   "outputs": [
    {
     "name": "stdout",
     "output_type": "stream",
     "text": [
      "1/1 [==============================] - 0s 55ms/step\n"
     ]
    },
    {
     "data": {
      "text/plain": [
       "array([[2.3509575e-04, 1.5604003e-01, 8.4372485e-01],\n",
       "       [2.4803896e-02, 7.0573020e-01, 2.6946583e-01],\n",
       "       [9.9196106e-01, 7.8710970e-03, 1.6784285e-04],\n",
       "       [1.8385555e-04, 2.1585783e-01, 7.8395832e-01],\n",
       "       [9.7719884e-01, 2.2000588e-02, 8.0050586e-04],\n",
       "       [6.9042508e-05, 1.0127749e-01, 8.9865345e-01],\n",
       "       [9.8386842e-01, 1.5610379e-02, 5.2119553e-04],\n",
       "       [1.0251940e-02, 6.8943638e-01, 3.0031171e-01],\n",
       "       [7.7106608e-03, 6.5843058e-01, 3.3385876e-01],\n",
       "       [2.8431900e-02, 7.5816017e-01, 2.1340786e-01],\n",
       "       [5.3025247e-04, 2.5335893e-01, 7.4611080e-01],\n",
       "       [1.3944788e-02, 7.0618629e-01, 2.7986890e-01],\n",
       "       [8.1571955e-03, 6.1362416e-01, 3.7821859e-01],\n",
       "       [8.0976952e-03, 6.3663036e-01, 3.5527197e-01],\n",
       "       [6.5098982e-03, 5.7602412e-01, 4.1746601e-01],\n",
       "       [9.7244477e-01, 2.6405016e-02, 1.1501975e-03],\n",
       "       [7.8636874e-03, 5.9093720e-01, 4.0119916e-01],\n",
       "       [8.0937808e-03, 5.5788559e-01, 4.3402061e-01],\n",
       "       [9.6566254e-01, 3.2771669e-02, 1.5658262e-03],\n",
       "       [9.9042833e-01, 9.3384376e-03, 2.3320870e-04],\n",
       "       [7.3938916e-04, 2.4547124e-01, 7.5378937e-01],\n",
       "       [6.5363911e-03, 5.3108263e-01, 4.6238101e-01],\n",
       "       [9.3482655e-01, 6.2488493e-02, 2.6849234e-03],\n",
       "       [9.5357305e-01, 4.4057943e-02, 2.3690017e-03],\n",
       "       [2.4608539e-03, 4.3111104e-01, 5.6642812e-01],\n",
       "       [9.8736507e-01, 1.2234086e-02, 4.0093329e-04],\n",
       "       [9.5203286e-01, 4.6412934e-02, 1.5542220e-03],\n",
       "       [1.8349737e-02, 7.2639984e-01, 2.5525048e-01],\n",
       "       [5.3678662e-02, 7.3768723e-01, 2.0863408e-01],\n",
       "       [9.6292007e-01, 3.5679247e-02, 1.4006929e-03]], dtype=float32)"
      ]
     },
     "execution_count": 24,
     "metadata": {},
     "output_type": "execute_result"
    }
   ],
   "source": [
    "y_pred = model.predict(X_test)\n",
    "y_pred"
   ]
  },
  {
   "cell_type": "code",
   "execution_count": 25,
   "id": "c99b0573",
   "metadata": {},
   "outputs": [
    {
     "name": "stdout",
     "output_type": "stream",
     "text": [
      "Actual   : [2 1 0 2 0 2 0 1 1 1 2 1 1 1 1 0 1 1 0 0 2 1 0 0 2 0 0 1 1 0]\n",
      "Predicted: [2 1 0 2 0 2 0 1 1 1 2 1 1 1 1 0 1 1 0 0 2 1 0 0 2 0 0 1 1 0]\n"
     ]
    }
   ],
   "source": [
    "actual = np.argmax(y_test,axis=1)\n",
    "predicted = np.argmax(y_pred,axis=1)\n",
    "print(f\"Actual   : {actual}\")\n",
    "print(f\"Predicted: {predicted}\")"
   ]
  }
 ],
 "metadata": {
  "kernelspec": {
   "display_name": "Python 3 (ipykernel)",
   "language": "python",
   "name": "python3"
  },
  "language_info": {
   "codemirror_mode": {
    "name": "ipython",
    "version": 3
   },
   "file_extension": ".py",
   "mimetype": "text/x-python",
   "name": "python",
   "nbconvert_exporter": "python",
   "pygments_lexer": "ipython3",
   "version": "3.10.4"
  }
 },
 "nbformat": 4,
 "nbformat_minor": 5
}
